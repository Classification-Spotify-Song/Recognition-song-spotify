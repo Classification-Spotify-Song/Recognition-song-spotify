{
  "nbformat": 4,
  "nbformat_minor": 0,
  "metadata": {
    "kernelspec": {
      "display_name": "Python 3",
      "language": "python",
      "name": "python3"
    },
    "language_info": {
      "codemirror_mode": {
        "name": "ipython",
        "version": 3
      },
      "file_extension": ".py",
      "mimetype": "text/x-python",
      "name": "python",
      "nbconvert_exporter": "python",
      "pygments_lexer": "ipython3",
      "version": "3.7.9"
    },
    "colab": {
      "name": "Data_hépatie.ipynb",
      "provenance": [],
      "collapsed_sections": []
    }
  },
  "cells": [
    {
      "cell_type": "code",
      "metadata": {
        "id": "9MaAQDqggePh"
      },
      "source": [
        "#import the reqired libraries\n",
        "from IPython.core.interactiveshell import InteractiveShell\n",
        "InteractiveShell.ast_node_interactivity = \"all\"\n",
        "import numpy as np\n",
        "import pandas as pd\n",
        "import math\n",
        "import json\n",
        "import time\n",
        "import pickle \n",
        "import matplotlib.pyplot as plt\n",
        "import seaborn as sns"
      ],
      "execution_count": 1,
      "outputs": []
    },
    {
      "cell_type": "code",
      "metadata": {
        "id": "JtTTqglSgePi"
      },
      "source": [
        "import tensorflow as tf\n",
        "import numpy as np\n",
        "import pandas as pd\n",
        "from tensorflow import keras\n",
        "from tensorflow.keras import layers"
      ],
      "execution_count": 2,
      "outputs": []
    },
    {
      "cell_type": "code",
      "metadata": {
        "colab": {
          "base_uri": "https://localhost:8080/",
          "height": 35
        },
        "id": "BXszuRUYgePi",
        "outputId": "729f8f56-5cb5-4a42-a4af-87d029331ed2"
      },
      "source": [
        "tf.__version__"
      ],
      "execution_count": null,
      "outputs": [
        {
          "output_type": "execute_result",
          "data": {
            "application/vnd.google.colaboratory.intrinsic+json": {
              "type": "string"
            },
            "text/plain": [
              "'2.3.0'"
            ]
          },
          "metadata": {
            "tags": []
          },
          "execution_count": 4
        }
      ]
    },
    {
      "cell_type": "code",
      "metadata": {
        "colab": {
          "base_uri": "https://localhost:8080/",
          "height": 35
        },
        "id": "cu7_j2lij-_0",
        "outputId": "2fea8ee1-b5aa-409a-90e8-2e3b0beda8de"
      },
      "source": [
        "keras.__version__"
      ],
      "execution_count": null,
      "outputs": [
        {
          "output_type": "execute_result",
          "data": {
            "application/vnd.google.colaboratory.intrinsic+json": {
              "type": "string"
            },
            "text/plain": [
              "'2.4.0'"
            ]
          },
          "metadata": {
            "tags": []
          },
          "execution_count": 5
        }
      ]
    },
    {
      "cell_type": "code",
      "metadata": {
        "colab": {
          "resources": {
            "http://localhost:8080/nbextensions/google.colab/files.js": {
              "data": "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",
              "ok": true,
              "headers": [
                [
                  "content-type",
                  "application/javascript"
                ]
              ],
              "status": 200,
              "status_text": ""
            }
          },
          "base_uri": "https://localhost:8080/",
          "height": 73
        },
        "id": "ZI6Kk7vNgePi",
        "outputId": "01d49263-8cb4-451e-fb19-f8682c8c3e9b"
      },
      "source": [
        "from google.colab import files\n",
        "uploaded = files.upload()\n"
      ],
      "execution_count": 3,
      "outputs": [
        {
          "output_type": "display_data",
          "data": {
            "text/html": [
              "\n",
              "     <input type=\"file\" id=\"files-c607fa68-7b55-4dbf-a441-53833622ee6a\" name=\"files[]\" multiple disabled\n",
              "        style=\"border:none\" />\n",
              "     <output id=\"result-c607fa68-7b55-4dbf-a441-53833622ee6a\">\n",
              "      Upload widget is only available when the cell has been executed in the\n",
              "      current browser session. Please rerun this cell to enable.\n",
              "      </output>\n",
              "      <script src=\"/nbextensions/google.colab/files.js\"></script> "
            ],
            "text/plain": [
              "<IPython.core.display.HTML object>"
            ]
          },
          "metadata": {
            "tags": []
          }
        },
        {
          "output_type": "stream",
          "text": [
            "Saving hcvdat0.csv to hcvdat0.csv\n"
          ],
          "name": "stdout"
        }
      ]
    },
    {
      "cell_type": "code",
      "metadata": {
        "id": "OugHva2sg-s5"
      },
      "source": [
        "import io\n",
        "df = pd.read_csv(io.BytesIO(uploaded['hcvdat0.csv']))"
      ],
      "execution_count": 165,
      "outputs": []
    },
    {
      "cell_type": "code",
      "metadata": {
        "colab": {
          "base_uri": "https://localhost:8080/",
          "height": 406
        },
        "id": "WEBAxzzLgePi",
        "outputId": "2b2067c5-85d0-4d6b-bd2f-1fe68466edcc"
      },
      "source": [
        "df"
      ],
      "execution_count": 166,
      "outputs": [
        {
          "output_type": "execute_result",
          "data": {
            "text/html": [
              "<div>\n",
              "<style scoped>\n",
              "    .dataframe tbody tr th:only-of-type {\n",
              "        vertical-align: middle;\n",
              "    }\n",
              "\n",
              "    .dataframe tbody tr th {\n",
              "        vertical-align: top;\n",
              "    }\n",
              "\n",
              "    .dataframe thead th {\n",
              "        text-align: right;\n",
              "    }\n",
              "</style>\n",
              "<table border=\"1\" class=\"dataframe\">\n",
              "  <thead>\n",
              "    <tr style=\"text-align: right;\">\n",
              "      <th></th>\n",
              "      <th>Unnamed: 0</th>\n",
              "      <th>Category</th>\n",
              "      <th>Age</th>\n",
              "      <th>Sex</th>\n",
              "      <th>ALB</th>\n",
              "      <th>ALP</th>\n",
              "      <th>ALT</th>\n",
              "      <th>AST</th>\n",
              "      <th>BIL</th>\n",
              "      <th>CHE</th>\n",
              "      <th>CHOL</th>\n",
              "      <th>CREA</th>\n",
              "      <th>GGT</th>\n",
              "      <th>PROT</th>\n",
              "    </tr>\n",
              "  </thead>\n",
              "  <tbody>\n",
              "    <tr>\n",
              "      <th>0</th>\n",
              "      <td>1</td>\n",
              "      <td>0=Blood Donor</td>\n",
              "      <td>32</td>\n",
              "      <td>m</td>\n",
              "      <td>38.5</td>\n",
              "      <td>52.5</td>\n",
              "      <td>7.7</td>\n",
              "      <td>22.1</td>\n",
              "      <td>7.5</td>\n",
              "      <td>6.93</td>\n",
              "      <td>3.23</td>\n",
              "      <td>106.0</td>\n",
              "      <td>12.1</td>\n",
              "      <td>69.0</td>\n",
              "    </tr>\n",
              "    <tr>\n",
              "      <th>1</th>\n",
              "      <td>2</td>\n",
              "      <td>0=Blood Donor</td>\n",
              "      <td>32</td>\n",
              "      <td>m</td>\n",
              "      <td>38.5</td>\n",
              "      <td>70.3</td>\n",
              "      <td>18.0</td>\n",
              "      <td>24.7</td>\n",
              "      <td>3.9</td>\n",
              "      <td>11.17</td>\n",
              "      <td>4.80</td>\n",
              "      <td>74.0</td>\n",
              "      <td>15.6</td>\n",
              "      <td>76.5</td>\n",
              "    </tr>\n",
              "    <tr>\n",
              "      <th>2</th>\n",
              "      <td>3</td>\n",
              "      <td>0=Blood Donor</td>\n",
              "      <td>32</td>\n",
              "      <td>m</td>\n",
              "      <td>46.9</td>\n",
              "      <td>74.7</td>\n",
              "      <td>36.2</td>\n",
              "      <td>52.6</td>\n",
              "      <td>6.1</td>\n",
              "      <td>8.84</td>\n",
              "      <td>5.20</td>\n",
              "      <td>86.0</td>\n",
              "      <td>33.2</td>\n",
              "      <td>79.3</td>\n",
              "    </tr>\n",
              "    <tr>\n",
              "      <th>3</th>\n",
              "      <td>4</td>\n",
              "      <td>0=Blood Donor</td>\n",
              "      <td>32</td>\n",
              "      <td>m</td>\n",
              "      <td>43.2</td>\n",
              "      <td>52.0</td>\n",
              "      <td>30.6</td>\n",
              "      <td>22.6</td>\n",
              "      <td>18.9</td>\n",
              "      <td>7.33</td>\n",
              "      <td>4.74</td>\n",
              "      <td>80.0</td>\n",
              "      <td>33.8</td>\n",
              "      <td>75.7</td>\n",
              "    </tr>\n",
              "    <tr>\n",
              "      <th>4</th>\n",
              "      <td>5</td>\n",
              "      <td>0=Blood Donor</td>\n",
              "      <td>32</td>\n",
              "      <td>m</td>\n",
              "      <td>39.2</td>\n",
              "      <td>74.1</td>\n",
              "      <td>32.6</td>\n",
              "      <td>24.8</td>\n",
              "      <td>9.6</td>\n",
              "      <td>9.15</td>\n",
              "      <td>4.32</td>\n",
              "      <td>76.0</td>\n",
              "      <td>29.9</td>\n",
              "      <td>68.7</td>\n",
              "    </tr>\n",
              "    <tr>\n",
              "      <th>...</th>\n",
              "      <td>...</td>\n",
              "      <td>...</td>\n",
              "      <td>...</td>\n",
              "      <td>...</td>\n",
              "      <td>...</td>\n",
              "      <td>...</td>\n",
              "      <td>...</td>\n",
              "      <td>...</td>\n",
              "      <td>...</td>\n",
              "      <td>...</td>\n",
              "      <td>...</td>\n",
              "      <td>...</td>\n",
              "      <td>...</td>\n",
              "      <td>...</td>\n",
              "    </tr>\n",
              "    <tr>\n",
              "      <th>610</th>\n",
              "      <td>611</td>\n",
              "      <td>3=Cirrhosis</td>\n",
              "      <td>62</td>\n",
              "      <td>f</td>\n",
              "      <td>32.0</td>\n",
              "      <td>416.6</td>\n",
              "      <td>5.9</td>\n",
              "      <td>110.3</td>\n",
              "      <td>50.0</td>\n",
              "      <td>5.57</td>\n",
              "      <td>6.30</td>\n",
              "      <td>55.7</td>\n",
              "      <td>650.9</td>\n",
              "      <td>68.5</td>\n",
              "    </tr>\n",
              "    <tr>\n",
              "      <th>611</th>\n",
              "      <td>612</td>\n",
              "      <td>3=Cirrhosis</td>\n",
              "      <td>64</td>\n",
              "      <td>f</td>\n",
              "      <td>24.0</td>\n",
              "      <td>102.8</td>\n",
              "      <td>2.9</td>\n",
              "      <td>44.4</td>\n",
              "      <td>20.0</td>\n",
              "      <td>1.54</td>\n",
              "      <td>3.02</td>\n",
              "      <td>63.0</td>\n",
              "      <td>35.9</td>\n",
              "      <td>71.3</td>\n",
              "    </tr>\n",
              "    <tr>\n",
              "      <th>612</th>\n",
              "      <td>613</td>\n",
              "      <td>3=Cirrhosis</td>\n",
              "      <td>64</td>\n",
              "      <td>f</td>\n",
              "      <td>29.0</td>\n",
              "      <td>87.3</td>\n",
              "      <td>3.5</td>\n",
              "      <td>99.0</td>\n",
              "      <td>48.0</td>\n",
              "      <td>1.66</td>\n",
              "      <td>3.63</td>\n",
              "      <td>66.7</td>\n",
              "      <td>64.2</td>\n",
              "      <td>82.0</td>\n",
              "    </tr>\n",
              "    <tr>\n",
              "      <th>613</th>\n",
              "      <td>614</td>\n",
              "      <td>3=Cirrhosis</td>\n",
              "      <td>46</td>\n",
              "      <td>f</td>\n",
              "      <td>33.0</td>\n",
              "      <td>NaN</td>\n",
              "      <td>39.0</td>\n",
              "      <td>62.0</td>\n",
              "      <td>20.0</td>\n",
              "      <td>3.56</td>\n",
              "      <td>4.20</td>\n",
              "      <td>52.0</td>\n",
              "      <td>50.0</td>\n",
              "      <td>71.0</td>\n",
              "    </tr>\n",
              "    <tr>\n",
              "      <th>614</th>\n",
              "      <td>615</td>\n",
              "      <td>3=Cirrhosis</td>\n",
              "      <td>59</td>\n",
              "      <td>f</td>\n",
              "      <td>36.0</td>\n",
              "      <td>NaN</td>\n",
              "      <td>100.0</td>\n",
              "      <td>80.0</td>\n",
              "      <td>12.0</td>\n",
              "      <td>9.07</td>\n",
              "      <td>5.30</td>\n",
              "      <td>67.0</td>\n",
              "      <td>34.0</td>\n",
              "      <td>68.0</td>\n",
              "    </tr>\n",
              "  </tbody>\n",
              "</table>\n",
              "<p>615 rows × 14 columns</p>\n",
              "</div>"
            ],
            "text/plain": [
              "     Unnamed: 0       Category  Age Sex   ALB  ...    CHE  CHOL   CREA    GGT  PROT\n",
              "0             1  0=Blood Donor   32   m  38.5  ...   6.93  3.23  106.0   12.1  69.0\n",
              "1             2  0=Blood Donor   32   m  38.5  ...  11.17  4.80   74.0   15.6  76.5\n",
              "2             3  0=Blood Donor   32   m  46.9  ...   8.84  5.20   86.0   33.2  79.3\n",
              "3             4  0=Blood Donor   32   m  43.2  ...   7.33  4.74   80.0   33.8  75.7\n",
              "4             5  0=Blood Donor   32   m  39.2  ...   9.15  4.32   76.0   29.9  68.7\n",
              "..          ...            ...  ...  ..   ...  ...    ...   ...    ...    ...   ...\n",
              "610         611    3=Cirrhosis   62   f  32.0  ...   5.57  6.30   55.7  650.9  68.5\n",
              "611         612    3=Cirrhosis   64   f  24.0  ...   1.54  3.02   63.0   35.9  71.3\n",
              "612         613    3=Cirrhosis   64   f  29.0  ...   1.66  3.63   66.7   64.2  82.0\n",
              "613         614    3=Cirrhosis   46   f  33.0  ...   3.56  4.20   52.0   50.0  71.0\n",
              "614         615    3=Cirrhosis   59   f  36.0  ...   9.07  5.30   67.0   34.0  68.0\n",
              "\n",
              "[615 rows x 14 columns]"
            ]
          },
          "metadata": {
            "tags": []
          },
          "execution_count": 166
        }
      ]
    },
    {
      "cell_type": "markdown",
      "metadata": {
        "id": "-PikYFXsgePj"
      },
      "source": [
        "## Analyse exploratoire des données"
      ]
    },
    {
      "cell_type": "code",
      "metadata": {
        "colab": {
          "base_uri": "https://localhost:8080/"
        },
        "id": "qjOqAl78gePj",
        "outputId": "7465428f-addb-4a0f-f81a-b62576fa3a5e"
      },
      "source": [
        "df.shape"
      ],
      "execution_count": 167,
      "outputs": [
        {
          "output_type": "execute_result",
          "data": {
            "text/plain": [
              "(615, 14)"
            ]
          },
          "metadata": {
            "tags": []
          },
          "execution_count": 167
        }
      ]
    },
    {
      "cell_type": "code",
      "metadata": {
        "id": "kudqg7YKgePj"
      },
      "source": [
        "df= df.drop('Unnamed: 0', axis=1 )\n",
        "#df.reset_index(inplace=True)"
      ],
      "execution_count": 168,
      "outputs": []
    },
    {
      "cell_type": "code",
      "metadata": {
        "colab": {
          "base_uri": "https://localhost:8080/",
          "height": 406
        },
        "id": "FhIYaIUVgePj",
        "outputId": "c60114ce-279b-4492-8ec0-57df44bd6922"
      },
      "source": [
        "df"
      ],
      "execution_count": 169,
      "outputs": [
        {
          "output_type": "execute_result",
          "data": {
            "text/html": [
              "<div>\n",
              "<style scoped>\n",
              "    .dataframe tbody tr th:only-of-type {\n",
              "        vertical-align: middle;\n",
              "    }\n",
              "\n",
              "    .dataframe tbody tr th {\n",
              "        vertical-align: top;\n",
              "    }\n",
              "\n",
              "    .dataframe thead th {\n",
              "        text-align: right;\n",
              "    }\n",
              "</style>\n",
              "<table border=\"1\" class=\"dataframe\">\n",
              "  <thead>\n",
              "    <tr style=\"text-align: right;\">\n",
              "      <th></th>\n",
              "      <th>Category</th>\n",
              "      <th>Age</th>\n",
              "      <th>Sex</th>\n",
              "      <th>ALB</th>\n",
              "      <th>ALP</th>\n",
              "      <th>ALT</th>\n",
              "      <th>AST</th>\n",
              "      <th>BIL</th>\n",
              "      <th>CHE</th>\n",
              "      <th>CHOL</th>\n",
              "      <th>CREA</th>\n",
              "      <th>GGT</th>\n",
              "      <th>PROT</th>\n",
              "    </tr>\n",
              "  </thead>\n",
              "  <tbody>\n",
              "    <tr>\n",
              "      <th>0</th>\n",
              "      <td>0=Blood Donor</td>\n",
              "      <td>32</td>\n",
              "      <td>m</td>\n",
              "      <td>38.5</td>\n",
              "      <td>52.5</td>\n",
              "      <td>7.7</td>\n",
              "      <td>22.1</td>\n",
              "      <td>7.5</td>\n",
              "      <td>6.93</td>\n",
              "      <td>3.23</td>\n",
              "      <td>106.0</td>\n",
              "      <td>12.1</td>\n",
              "      <td>69.0</td>\n",
              "    </tr>\n",
              "    <tr>\n",
              "      <th>1</th>\n",
              "      <td>0=Blood Donor</td>\n",
              "      <td>32</td>\n",
              "      <td>m</td>\n",
              "      <td>38.5</td>\n",
              "      <td>70.3</td>\n",
              "      <td>18.0</td>\n",
              "      <td>24.7</td>\n",
              "      <td>3.9</td>\n",
              "      <td>11.17</td>\n",
              "      <td>4.80</td>\n",
              "      <td>74.0</td>\n",
              "      <td>15.6</td>\n",
              "      <td>76.5</td>\n",
              "    </tr>\n",
              "    <tr>\n",
              "      <th>2</th>\n",
              "      <td>0=Blood Donor</td>\n",
              "      <td>32</td>\n",
              "      <td>m</td>\n",
              "      <td>46.9</td>\n",
              "      <td>74.7</td>\n",
              "      <td>36.2</td>\n",
              "      <td>52.6</td>\n",
              "      <td>6.1</td>\n",
              "      <td>8.84</td>\n",
              "      <td>5.20</td>\n",
              "      <td>86.0</td>\n",
              "      <td>33.2</td>\n",
              "      <td>79.3</td>\n",
              "    </tr>\n",
              "    <tr>\n",
              "      <th>3</th>\n",
              "      <td>0=Blood Donor</td>\n",
              "      <td>32</td>\n",
              "      <td>m</td>\n",
              "      <td>43.2</td>\n",
              "      <td>52.0</td>\n",
              "      <td>30.6</td>\n",
              "      <td>22.6</td>\n",
              "      <td>18.9</td>\n",
              "      <td>7.33</td>\n",
              "      <td>4.74</td>\n",
              "      <td>80.0</td>\n",
              "      <td>33.8</td>\n",
              "      <td>75.7</td>\n",
              "    </tr>\n",
              "    <tr>\n",
              "      <th>4</th>\n",
              "      <td>0=Blood Donor</td>\n",
              "      <td>32</td>\n",
              "      <td>m</td>\n",
              "      <td>39.2</td>\n",
              "      <td>74.1</td>\n",
              "      <td>32.6</td>\n",
              "      <td>24.8</td>\n",
              "      <td>9.6</td>\n",
              "      <td>9.15</td>\n",
              "      <td>4.32</td>\n",
              "      <td>76.0</td>\n",
              "      <td>29.9</td>\n",
              "      <td>68.7</td>\n",
              "    </tr>\n",
              "    <tr>\n",
              "      <th>...</th>\n",
              "      <td>...</td>\n",
              "      <td>...</td>\n",
              "      <td>...</td>\n",
              "      <td>...</td>\n",
              "      <td>...</td>\n",
              "      <td>...</td>\n",
              "      <td>...</td>\n",
              "      <td>...</td>\n",
              "      <td>...</td>\n",
              "      <td>...</td>\n",
              "      <td>...</td>\n",
              "      <td>...</td>\n",
              "      <td>...</td>\n",
              "    </tr>\n",
              "    <tr>\n",
              "      <th>610</th>\n",
              "      <td>3=Cirrhosis</td>\n",
              "      <td>62</td>\n",
              "      <td>f</td>\n",
              "      <td>32.0</td>\n",
              "      <td>416.6</td>\n",
              "      <td>5.9</td>\n",
              "      <td>110.3</td>\n",
              "      <td>50.0</td>\n",
              "      <td>5.57</td>\n",
              "      <td>6.30</td>\n",
              "      <td>55.7</td>\n",
              "      <td>650.9</td>\n",
              "      <td>68.5</td>\n",
              "    </tr>\n",
              "    <tr>\n",
              "      <th>611</th>\n",
              "      <td>3=Cirrhosis</td>\n",
              "      <td>64</td>\n",
              "      <td>f</td>\n",
              "      <td>24.0</td>\n",
              "      <td>102.8</td>\n",
              "      <td>2.9</td>\n",
              "      <td>44.4</td>\n",
              "      <td>20.0</td>\n",
              "      <td>1.54</td>\n",
              "      <td>3.02</td>\n",
              "      <td>63.0</td>\n",
              "      <td>35.9</td>\n",
              "      <td>71.3</td>\n",
              "    </tr>\n",
              "    <tr>\n",
              "      <th>612</th>\n",
              "      <td>3=Cirrhosis</td>\n",
              "      <td>64</td>\n",
              "      <td>f</td>\n",
              "      <td>29.0</td>\n",
              "      <td>87.3</td>\n",
              "      <td>3.5</td>\n",
              "      <td>99.0</td>\n",
              "      <td>48.0</td>\n",
              "      <td>1.66</td>\n",
              "      <td>3.63</td>\n",
              "      <td>66.7</td>\n",
              "      <td>64.2</td>\n",
              "      <td>82.0</td>\n",
              "    </tr>\n",
              "    <tr>\n",
              "      <th>613</th>\n",
              "      <td>3=Cirrhosis</td>\n",
              "      <td>46</td>\n",
              "      <td>f</td>\n",
              "      <td>33.0</td>\n",
              "      <td>NaN</td>\n",
              "      <td>39.0</td>\n",
              "      <td>62.0</td>\n",
              "      <td>20.0</td>\n",
              "      <td>3.56</td>\n",
              "      <td>4.20</td>\n",
              "      <td>52.0</td>\n",
              "      <td>50.0</td>\n",
              "      <td>71.0</td>\n",
              "    </tr>\n",
              "    <tr>\n",
              "      <th>614</th>\n",
              "      <td>3=Cirrhosis</td>\n",
              "      <td>59</td>\n",
              "      <td>f</td>\n",
              "      <td>36.0</td>\n",
              "      <td>NaN</td>\n",
              "      <td>100.0</td>\n",
              "      <td>80.0</td>\n",
              "      <td>12.0</td>\n",
              "      <td>9.07</td>\n",
              "      <td>5.30</td>\n",
              "      <td>67.0</td>\n",
              "      <td>34.0</td>\n",
              "      <td>68.0</td>\n",
              "    </tr>\n",
              "  </tbody>\n",
              "</table>\n",
              "<p>615 rows × 13 columns</p>\n",
              "</div>"
            ],
            "text/plain": [
              "          Category  Age Sex   ALB    ALP  ...    CHE  CHOL   CREA    GGT  PROT\n",
              "0    0=Blood Donor   32   m  38.5   52.5  ...   6.93  3.23  106.0   12.1  69.0\n",
              "1    0=Blood Donor   32   m  38.5   70.3  ...  11.17  4.80   74.0   15.6  76.5\n",
              "2    0=Blood Donor   32   m  46.9   74.7  ...   8.84  5.20   86.0   33.2  79.3\n",
              "3    0=Blood Donor   32   m  43.2   52.0  ...   7.33  4.74   80.0   33.8  75.7\n",
              "4    0=Blood Donor   32   m  39.2   74.1  ...   9.15  4.32   76.0   29.9  68.7\n",
              "..             ...  ...  ..   ...    ...  ...    ...   ...    ...    ...   ...\n",
              "610    3=Cirrhosis   62   f  32.0  416.6  ...   5.57  6.30   55.7  650.9  68.5\n",
              "611    3=Cirrhosis   64   f  24.0  102.8  ...   1.54  3.02   63.0   35.9  71.3\n",
              "612    3=Cirrhosis   64   f  29.0   87.3  ...   1.66  3.63   66.7   64.2  82.0\n",
              "613    3=Cirrhosis   46   f  33.0    NaN  ...   3.56  4.20   52.0   50.0  71.0\n",
              "614    3=Cirrhosis   59   f  36.0    NaN  ...   9.07  5.30   67.0   34.0  68.0\n",
              "\n",
              "[615 rows x 13 columns]"
            ]
          },
          "metadata": {
            "tags": []
          },
          "execution_count": 169
        }
      ]
    },
    {
      "cell_type": "code",
      "metadata": {
        "colab": {
          "base_uri": "https://localhost:8080/",
          "height": 307
        },
        "id": "yMG8iP48gePj",
        "outputId": "82dba15b-a1d1-404c-e5b4-fde86bb735c2"
      },
      "source": [
        "df.describe()"
      ],
      "execution_count": 9,
      "outputs": [
        {
          "output_type": "execute_result",
          "data": {
            "text/html": [
              "<div>\n",
              "<style scoped>\n",
              "    .dataframe tbody tr th:only-of-type {\n",
              "        vertical-align: middle;\n",
              "    }\n",
              "\n",
              "    .dataframe tbody tr th {\n",
              "        vertical-align: top;\n",
              "    }\n",
              "\n",
              "    .dataframe thead th {\n",
              "        text-align: right;\n",
              "    }\n",
              "</style>\n",
              "<table border=\"1\" class=\"dataframe\">\n",
              "  <thead>\n",
              "    <tr style=\"text-align: right;\">\n",
              "      <th></th>\n",
              "      <th>Age</th>\n",
              "      <th>ALB</th>\n",
              "      <th>ALP</th>\n",
              "      <th>ALT</th>\n",
              "      <th>AST</th>\n",
              "      <th>BIL</th>\n",
              "      <th>CHE</th>\n",
              "      <th>CHOL</th>\n",
              "      <th>CREA</th>\n",
              "      <th>GGT</th>\n",
              "      <th>PROT</th>\n",
              "    </tr>\n",
              "  </thead>\n",
              "  <tbody>\n",
              "    <tr>\n",
              "      <th>count</th>\n",
              "      <td>615.000000</td>\n",
              "      <td>614.000000</td>\n",
              "      <td>597.000000</td>\n",
              "      <td>614.000000</td>\n",
              "      <td>615.000000</td>\n",
              "      <td>615.000000</td>\n",
              "      <td>615.000000</td>\n",
              "      <td>605.000000</td>\n",
              "      <td>615.000000</td>\n",
              "      <td>615.000000</td>\n",
              "      <td>614.000000</td>\n",
              "    </tr>\n",
              "    <tr>\n",
              "      <th>mean</th>\n",
              "      <td>47.408130</td>\n",
              "      <td>41.620195</td>\n",
              "      <td>68.283920</td>\n",
              "      <td>28.450814</td>\n",
              "      <td>34.786341</td>\n",
              "      <td>11.396748</td>\n",
              "      <td>8.196634</td>\n",
              "      <td>5.368099</td>\n",
              "      <td>81.287805</td>\n",
              "      <td>39.533171</td>\n",
              "      <td>72.044137</td>\n",
              "    </tr>\n",
              "    <tr>\n",
              "      <th>std</th>\n",
              "      <td>10.055105</td>\n",
              "      <td>5.780629</td>\n",
              "      <td>26.028315</td>\n",
              "      <td>25.469689</td>\n",
              "      <td>33.090690</td>\n",
              "      <td>19.673150</td>\n",
              "      <td>2.205657</td>\n",
              "      <td>1.132728</td>\n",
              "      <td>49.756166</td>\n",
              "      <td>54.661071</td>\n",
              "      <td>5.402636</td>\n",
              "    </tr>\n",
              "    <tr>\n",
              "      <th>min</th>\n",
              "      <td>19.000000</td>\n",
              "      <td>14.900000</td>\n",
              "      <td>11.300000</td>\n",
              "      <td>0.900000</td>\n",
              "      <td>10.600000</td>\n",
              "      <td>0.800000</td>\n",
              "      <td>1.420000</td>\n",
              "      <td>1.430000</td>\n",
              "      <td>8.000000</td>\n",
              "      <td>4.500000</td>\n",
              "      <td>44.800000</td>\n",
              "    </tr>\n",
              "    <tr>\n",
              "      <th>25%</th>\n",
              "      <td>39.000000</td>\n",
              "      <td>38.800000</td>\n",
              "      <td>52.500000</td>\n",
              "      <td>16.400000</td>\n",
              "      <td>21.600000</td>\n",
              "      <td>5.300000</td>\n",
              "      <td>6.935000</td>\n",
              "      <td>4.610000</td>\n",
              "      <td>67.000000</td>\n",
              "      <td>15.700000</td>\n",
              "      <td>69.300000</td>\n",
              "    </tr>\n",
              "    <tr>\n",
              "      <th>50%</th>\n",
              "      <td>47.000000</td>\n",
              "      <td>41.950000</td>\n",
              "      <td>66.200000</td>\n",
              "      <td>23.000000</td>\n",
              "      <td>25.900000</td>\n",
              "      <td>7.300000</td>\n",
              "      <td>8.260000</td>\n",
              "      <td>5.300000</td>\n",
              "      <td>77.000000</td>\n",
              "      <td>23.300000</td>\n",
              "      <td>72.200000</td>\n",
              "    </tr>\n",
              "    <tr>\n",
              "      <th>75%</th>\n",
              "      <td>54.000000</td>\n",
              "      <td>45.200000</td>\n",
              "      <td>80.100000</td>\n",
              "      <td>33.075000</td>\n",
              "      <td>32.900000</td>\n",
              "      <td>11.200000</td>\n",
              "      <td>9.590000</td>\n",
              "      <td>6.060000</td>\n",
              "      <td>88.000000</td>\n",
              "      <td>40.200000</td>\n",
              "      <td>75.400000</td>\n",
              "    </tr>\n",
              "    <tr>\n",
              "      <th>max</th>\n",
              "      <td>77.000000</td>\n",
              "      <td>82.200000</td>\n",
              "      <td>416.600000</td>\n",
              "      <td>325.300000</td>\n",
              "      <td>324.000000</td>\n",
              "      <td>254.000000</td>\n",
              "      <td>16.410000</td>\n",
              "      <td>9.670000</td>\n",
              "      <td>1079.100000</td>\n",
              "      <td>650.900000</td>\n",
              "      <td>90.000000</td>\n",
              "    </tr>\n",
              "  </tbody>\n",
              "</table>\n",
              "</div>"
            ],
            "text/plain": [
              "              Age         ALB         ALP  ...         CREA         GGT        PROT\n",
              "count  615.000000  614.000000  597.000000  ...   615.000000  615.000000  614.000000\n",
              "mean    47.408130   41.620195   68.283920  ...    81.287805   39.533171   72.044137\n",
              "std     10.055105    5.780629   26.028315  ...    49.756166   54.661071    5.402636\n",
              "min     19.000000   14.900000   11.300000  ...     8.000000    4.500000   44.800000\n",
              "25%     39.000000   38.800000   52.500000  ...    67.000000   15.700000   69.300000\n",
              "50%     47.000000   41.950000   66.200000  ...    77.000000   23.300000   72.200000\n",
              "75%     54.000000   45.200000   80.100000  ...    88.000000   40.200000   75.400000\n",
              "max     77.000000   82.200000  416.600000  ...  1079.100000  650.900000   90.000000\n",
              "\n",
              "[8 rows x 11 columns]"
            ]
          },
          "metadata": {
            "tags": []
          },
          "execution_count": 9
        }
      ]
    },
    {
      "cell_type": "code",
      "metadata": {
        "id": "KXh0ysqWgePj"
      },
      "source": [
        "df1=df.copy()"
      ],
      "execution_count": 170,
      "outputs": []
    },
    {
      "cell_type": "code",
      "metadata": {
        "colab": {
          "base_uri": "https://localhost:8080/"
        },
        "id": "ZgfVi2ErgePj",
        "outputId": "22f07dfa-9a71-4850-e8ec-99c6e05d7ef4"
      },
      "source": [
        "df1.dtypes"
      ],
      "execution_count": 11,
      "outputs": [
        {
          "output_type": "execute_result",
          "data": {
            "text/plain": [
              "Category     object\n",
              "Age           int64\n",
              "Sex          object\n",
              "ALB         float64\n",
              "ALP         float64\n",
              "ALT         float64\n",
              "AST         float64\n",
              "BIL         float64\n",
              "CHE         float64\n",
              "CHOL        float64\n",
              "CREA        float64\n",
              "GGT         float64\n",
              "PROT        float64\n",
              "dtype: object"
            ]
          },
          "metadata": {
            "tags": []
          },
          "execution_count": 11
        }
      ]
    },
    {
      "cell_type": "code",
      "metadata": {
        "colab": {
          "base_uri": "https://localhost:8080/"
        },
        "id": "8lQsXNABgePj",
        "outputId": "c3e057d2-6f48-4d01-bd54-1be67d631695"
      },
      "source": [
        "df1.dtypes.value_counts()"
      ],
      "execution_count": 12,
      "outputs": [
        {
          "output_type": "execute_result",
          "data": {
            "text/plain": [
              "float64    10\n",
              "object      2\n",
              "int64       1\n",
              "dtype: int64"
            ]
          },
          "metadata": {
            "tags": []
          },
          "execution_count": 12
        }
      ]
    },
    {
      "cell_type": "code",
      "metadata": {
        "colab": {
          "base_uri": "https://localhost:8080/",
          "height": 506
        },
        "id": "8UQdn2fOgePj",
        "outputId": "f2fc9873-c031-4ba3-f9fc-f0a1143934c8"
      },
      "source": [
        "plt.figure(figsize=(20,10))\n",
        "sns.heatmap(df1.isna(), cbar=False)"
      ],
      "execution_count": 13,
      "outputs": [
        {
          "output_type": "execute_result",
          "data": {
            "text/plain": [
              "<Figure size 1440x720 with 0 Axes>"
            ]
          },
          "metadata": {
            "tags": []
          },
          "execution_count": 13
        },
        {
          "output_type": "execute_result",
          "data": {
            "text/plain": [
              "<matplotlib.axes._subplots.AxesSubplot at 0x7f7799462470>"
            ]
          },
          "metadata": {
            "tags": []
          },
          "execution_count": 13
        },
        {
          "output_type": "display_data",
          "data": {
            "image/png": "[encoded data removed]",
            "text/plain": [
              "<Figure size 1440x720 with 1 Axes>"
            ]
          },
          "metadata": {
            "tags": [],
            "needs_background": "light"
          }
        }
      ]
    },
    {
      "cell_type": "code",
      "metadata": {
        "colab": {
          "base_uri": "https://localhost:8080/"
        },
        "id": "PFnI9QOjgePk",
        "outputId": "4f357904-a729-4a53-c770-566d1d9f92a5"
      },
      "source": [
        "(df1.isna().sum()/df1.shape[0]).sort_values(ascending=False)"
      ],
      "execution_count": 14,
      "outputs": [
        {
          "output_type": "execute_result",
          "data": {
            "text/plain": [
              "ALP         0.029268\n",
              "CHOL        0.016260\n",
              "PROT        0.001626\n",
              "ALT         0.001626\n",
              "ALB         0.001626\n",
              "GGT         0.000000\n",
              "CREA        0.000000\n",
              "CHE         0.000000\n",
              "BIL         0.000000\n",
              "AST         0.000000\n",
              "Sex         0.000000\n",
              "Age         0.000000\n",
              "Category    0.000000\n",
              "dtype: float64"
            ]
          },
          "metadata": {
            "tags": []
          },
          "execution_count": 14
        }
      ]
    },
    {
      "cell_type": "code",
      "metadata": {
        "colab": {
          "base_uri": "https://localhost:8080/"
        },
        "id": "wwfAszZdgePk",
        "outputId": "03f09ffa-de53-41c2-b22c-7680fec87bef"
      },
      "source": [
        "df1['Category'].unique()"
      ],
      "execution_count": 15,
      "outputs": [
        {
          "output_type": "execute_result",
          "data": {
            "text/plain": [
              "array(['0=Blood Donor', '0s=suspect Blood Donor', '1=Hepatitis',\n",
              "       '2=Fibrosis', '3=Cirrhosis'], dtype=object)"
            ]
          },
          "metadata": {
            "tags": []
          },
          "execution_count": 15
        }
      ]
    },
    {
      "cell_type": "code",
      "metadata": {
        "colab": {
          "base_uri": "https://localhost:8080/",
          "height": 370
        },
        "id": "lJkGP0fsgePk",
        "outputId": "b1e1cd2f-7bb9-49fb-a535-aede599a025c"
      },
      "source": [
        "for col in df1.select_dtypes('int64'):\n",
        "    print(col)\n",
        "    plt.figure()\n",
        "    sns.distplot(df1[col])"
      ],
      "execution_count": 16,
      "outputs": [
        {
          "output_type": "stream",
          "text": [
            "Age\n"
          ],
          "name": "stdout"
        },
        {
          "output_type": "execute_result",
          "data": {
            "text/plain": [
              "<Figure size 432x288 with 0 Axes>"
            ]
          },
          "metadata": {
            "tags": []
          },
          "execution_count": 16
        },
        {
          "output_type": "stream",
          "text": [
            "/usr/local/lib/python3.6/dist-packages/seaborn/distributions.py:2551: FutureWarning: `distplot` is a deprecated function and will be removed in a future version. Please adapt your code to use either `displot` (a figure-level function with similar flexibility) or `histplot` (an axes-level function for histograms).\n",
            "  warnings.warn(msg, FutureWarning)\n"
          ],
          "name": "stderr"
        },
        {
          "output_type": "execute_result",
          "data": {
            "text/plain": [
              "<matplotlib.axes._subplots.AxesSubplot at 0x7f77656bf978>"
            ]
          },
          "metadata": {
            "tags": []
          },
          "execution_count": 16
        },
        {
          "output_type": "display_data",
          "data": {
            "image/png": "[encoded data removed]",
            "text/plain": [
              "<Figure size 432x288 with 1 Axes>"
            ]
          },
          "metadata": {
            "tags": [],
            "needs_background": "light"
          }
        }
      ]
    },
    {
      "cell_type": "code",
      "metadata": {
        "colab": {
          "base_uri": "https://localhost:8080/",
          "height": 1000
        },
        "id": "ETISeYJWgePl",
        "outputId": "c6b977f7-8dcc-4262-acd7-a2afe64d0230"
      },
      "source": [
        "for col in df1.select_dtypes('float64'):\n",
        "    print(col)\n",
        "    plt.figure()\n",
        "    sns.distplot(df1[col])"
      ],
      "execution_count": 17,
      "outputs": [
        {
          "output_type": "stream",
          "text": [
            "ALB\n"
          ],
          "name": "stdout"
        },
        {
          "output_type": "execute_result",
          "data": {
            "text/plain": [
              "<Figure size 432x288 with 0 Axes>"
            ]
          },
          "metadata": {
            "tags": []
          },
          "execution_count": 17
        },
        {
          "output_type": "stream",
          "text": [
            "/usr/local/lib/python3.6/dist-packages/seaborn/distributions.py:2551: FutureWarning: `distplot` is a deprecated function and will be removed in a future version. Please adapt your code to use either `displot` (a figure-level function with similar flexibility) or `histplot` (an axes-level function for histograms).\n",
            "  warnings.warn(msg, FutureWarning)\n"
          ],
          "name": "stderr"
        },
        {
          "output_type": "execute_result",
          "data": {
            "text/plain": [
              "<matplotlib.axes._subplots.AxesSubplot at 0x7f7763f29128>"
            ]
          },
          "metadata": {
            "tags": []
          },
          "execution_count": 17
        },
        {
          "output_type": "stream",
          "text": [
            "ALP\n"
          ],
          "name": "stdout"
        },
        {
          "output_type": "execute_result",
          "data": {
            "text/plain": [
              "<Figure size 432x288 with 0 Axes>"
            ]
          },
          "metadata": {
            "tags": []
          },
          "execution_count": 17
        },
        {
          "output_type": "stream",
          "text": [
            "/usr/local/lib/python3.6/dist-packages/seaborn/distributions.py:2551: FutureWarning: `distplot` is a deprecated function and will be removed in a future version. Please adapt your code to use either `displot` (a figure-level function with similar flexibility) or `histplot` (an axes-level function for histograms).\n",
            "  warnings.warn(msg, FutureWarning)\n"
          ],
          "name": "stderr"
        },
        {
          "output_type": "execute_result",
          "data": {
            "text/plain": [
              "<matplotlib.axes._subplots.AxesSubplot at 0x7f7763e2e320>"
            ]
          },
          "metadata": {
            "tags": []
          },
          "execution_count": 17
        },
        {
          "output_type": "stream",
          "text": [
            "ALT\n"
          ],
          "name": "stdout"
        },
        {
          "output_type": "execute_result",
          "data": {
            "text/plain": [
              "<Figure size 432x288 with 0 Axes>"
            ]
          },
          "metadata": {
            "tags": []
          },
          "execution_count": 17
        },
        {
          "output_type": "stream",
          "text": [
            "/usr/local/lib/python3.6/dist-packages/seaborn/distributions.py:2551: FutureWarning: `distplot` is a deprecated function and will be removed in a future version. Please adapt your code to use either `displot` (a figure-level function with similar flexibility) or `histplot` (an axes-level function for histograms).\n",
            "  warnings.warn(msg, FutureWarning)\n"
          ],
          "name": "stderr"
        },
        {
          "output_type": "execute_result",
          "data": {
            "text/plain": [
              "<matplotlib.axes._subplots.AxesSubplot at 0x7f7763d6fe10>"
            ]
          },
          "metadata": {
            "tags": []
          },
          "execution_count": 17
        },
        {
          "output_type": "stream",
          "text": [
            "AST\n"
          ],
          "name": "stdout"
        },
        {
          "output_type": "execute_result",
          "data": {
            "text/plain": [
              "<Figure size 432x288 with 0 Axes>"
            ]
          },
          "metadata": {
            "tags": []
          },
          "execution_count": 17
        },
        {
          "output_type": "stream",
          "text": [
            "/usr/local/lib/python3.6/dist-packages/seaborn/distributions.py:2551: FutureWarning: `distplot` is a deprecated function and will be removed in a future version. Please adapt your code to use either `displot` (a figure-level function with similar flexibility) or `histplot` (an axes-level function for histograms).\n",
            "  warnings.warn(msg, FutureWarning)\n"
          ],
          "name": "stderr"
        },
        {
          "output_type": "execute_result",
          "data": {
            "text/plain": [
              "<matplotlib.axes._subplots.AxesSubplot at 0x7f7763c4ba90>"
            ]
          },
          "metadata": {
            "tags": []
          },
          "execution_count": 17
        },
        {
          "output_type": "stream",
          "text": [
            "BIL\n"
          ],
          "name": "stdout"
        },
        {
          "output_type": "execute_result",
          "data": {
            "text/plain": [
              "<Figure size 432x288 with 0 Axes>"
            ]
          },
          "metadata": {
            "tags": []
          },
          "execution_count": 17
        },
        {
          "output_type": "stream",
          "text": [
            "/usr/local/lib/python3.6/dist-packages/seaborn/distributions.py:2551: FutureWarning: `distplot` is a deprecated function and will be removed in a future version. Please adapt your code to use either `displot` (a figure-level function with similar flexibility) or `histplot` (an axes-level function for histograms).\n",
            "  warnings.warn(msg, FutureWarning)\n"
          ],
          "name": "stderr"
        },
        {
          "output_type": "execute_result",
          "data": {
            "text/plain": [
              "<matplotlib.axes._subplots.AxesSubplot at 0x7f7769046630>"
            ]
          },
          "metadata": {
            "tags": []
          },
          "execution_count": 17
        },
        {
          "output_type": "stream",
          "text": [
            "CHE\n"
          ],
          "name": "stdout"
        },
        {
          "output_type": "execute_result",
          "data": {
            "text/plain": [
              "<Figure size 432x288 with 0 Axes>"
            ]
          },
          "metadata": {
            "tags": []
          },
          "execution_count": 17
        },
        {
          "output_type": "stream",
          "text": [
            "/usr/local/lib/python3.6/dist-packages/seaborn/distributions.py:2551: FutureWarning: `distplot` is a deprecated function and will be removed in a future version. Please adapt your code to use either `displot` (a figure-level function with similar flexibility) or `histplot` (an axes-level function for histograms).\n",
            "  warnings.warn(msg, FutureWarning)\n"
          ],
          "name": "stderr"
        },
        {
          "output_type": "execute_result",
          "data": {
            "text/plain": [
              "<matplotlib.axes._subplots.AxesSubplot at 0x7f7763abee80>"
            ]
          },
          "metadata": {
            "tags": []
          },
          "execution_count": 17
        },
        {
          "output_type": "stream",
          "text": [
            "CHOL\n"
          ],
          "name": "stdout"
        },
        {
          "output_type": "execute_result",
          "data": {
            "text/plain": [
              "<Figure size 432x288 with 0 Axes>"
            ]
          },
          "metadata": {
            "tags": []
          },
          "execution_count": 17
        },
        {
          "output_type": "stream",
          "text": [
            "/usr/local/lib/python3.6/dist-packages/seaborn/distributions.py:2551: FutureWarning: `distplot` is a deprecated function and will be removed in a future version. Please adapt your code to use either `displot` (a figure-level function with similar flexibility) or `histplot` (an axes-level function for histograms).\n",
            "  warnings.warn(msg, FutureWarning)\n"
          ],
          "name": "stderr"
        },
        {
          "output_type": "execute_result",
          "data": {
            "text/plain": [
              "<matplotlib.axes._subplots.AxesSubplot at 0x7f7763a59c18>"
            ]
          },
          "metadata": {
            "tags": []
          },
          "execution_count": 17
        },
        {
          "output_type": "stream",
          "text": [
            "CREA\n"
          ],
          "name": "stdout"
        },
        {
          "output_type": "execute_result",
          "data": {
            "text/plain": [
              "<Figure size 432x288 with 0 Axes>"
            ]
          },
          "metadata": {
            "tags": []
          },
          "execution_count": 17
        },
        {
          "output_type": "stream",
          "text": [
            "/usr/local/lib/python3.6/dist-packages/seaborn/distributions.py:2551: FutureWarning: `distplot` is a deprecated function and will be removed in a future version. Please adapt your code to use either `displot` (a figure-level function with similar flexibility) or `histplot` (an axes-level function for histograms).\n",
            "  warnings.warn(msg, FutureWarning)\n"
          ],
          "name": "stderr"
        },
        {
          "output_type": "execute_result",
          "data": {
            "text/plain": [
              "<matplotlib.axes._subplots.AxesSubplot at 0x7f7763a32860>"
            ]
          },
          "metadata": {
            "tags": []
          },
          "execution_count": 17
        },
        {
          "output_type": "stream",
          "text": [
            "GGT\n"
          ],
          "name": "stdout"
        },
        {
          "output_type": "execute_result",
          "data": {
            "text/plain": [
              "<Figure size 432x288 with 0 Axes>"
            ]
          },
          "metadata": {
            "tags": []
          },
          "execution_count": 17
        },
        {
          "output_type": "stream",
          "text": [
            "/usr/local/lib/python3.6/dist-packages/seaborn/distributions.py:2551: FutureWarning: `distplot` is a deprecated function and will be removed in a future version. Please adapt your code to use either `displot` (a figure-level function with similar flexibility) or `histplot` (an axes-level function for histograms).\n",
            "  warnings.warn(msg, FutureWarning)\n"
          ],
          "name": "stderr"
        },
        {
          "output_type": "execute_result",
          "data": {
            "text/plain": [
              "<matplotlib.axes._subplots.AxesSubplot at 0x7f77638dd518>"
            ]
          },
          "metadata": {
            "tags": []
          },
          "execution_count": 17
        },
        {
          "output_type": "stream",
          "text": [
            "PROT\n"
          ],
          "name": "stdout"
        },
        {
          "output_type": "execute_result",
          "data": {
            "text/plain": [
              "<Figure size 432x288 with 0 Axes>"
            ]
          },
          "metadata": {
            "tags": []
          },
          "execution_count": 17
        },
        {
          "output_type": "stream",
          "text": [
            "/usr/local/lib/python3.6/dist-packages/seaborn/distributions.py:2551: FutureWarning: `distplot` is a deprecated function and will be removed in a future version. Please adapt your code to use either `displot` (a figure-level function with similar flexibility) or `histplot` (an axes-level function for histograms).\n",
            "  warnings.warn(msg, FutureWarning)\n"
          ],
          "name": "stderr"
        },
        {
          "output_type": "execute_result",
          "data": {
            "text/plain": [
              "<matplotlib.axes._subplots.AxesSubplot at 0x7f77637ccda0>"
            ]
          },
          "metadata": {
            "tags": []
          },
          "execution_count": 17
        },
        {
          "output_type": "display_data",
          "data": {
            "image/png": "[encoded data removed]",
            "text/plain": [
              "<Figure size 432x288 with 1 Axes>"
            ]
          },
          "metadata": {
            "tags": [],
            "needs_background": "light"
          }
        },
        {
          "output_type": "display_data",
          "data": {
            "image/png": "[encoded data removed]",
            "text/plain": [
              "<Figure size 432x288 with 1 Axes>"
            ]
          },
          "metadata": {
            "tags": [],
            "needs_background": "light"
          }
        },
        {
          "output_type": "display_data",
          "data": {
            "image/png": "[encoded data removed]",
            "text/plain": [
              "<Figure size 432x288 with 1 Axes>"
            ]
          },
          "metadata": {
            "tags": [],
            "needs_background": "light"
          }
        },
        {
          "output_type": "display_data",
          "data": {
            "image/png": "[encoded data removed]",
            "text/plain": [
              "<Figure size 432x288 with 1 Axes>"
            ]
          },
          "metadata": {
            "tags": [],
            "needs_background": "light"
          }
        },
        {
          "output_type": "display_data",
          "data": {
            "image/png": "[encoded data removed]",
            "text/plain": [
              "<Figure size 432x288 with 1 Axes>"
            ]
          },
          "metadata": {
            "tags": [],
            "needs_background": "light"
          }
        },
        {
          "output_type": "display_data",
          "data": {
            "image/png": "[encoded data removed]",
            "text/plain": [
              "<Figure size 432x288 with 1 Axes>"
            ]
          },
          "metadata": {
            "tags": [],
            "needs_background": "light"
          }
        },
        {
          "output_type": "display_data",
          "data": {
            "image/png": "[encoded data removed]",
            "text/plain": [
              "<Figure size 432x288 with 1 Axes>"
            ]
          },
          "metadata": {
            "tags": [],
            "needs_background": "light"
          }
        },
        {
          "output_type": "display_data",
          "data": {
            "image/png": "[encoded data removed]",
            "text/plain": [
              "<Figure size 432x288 with 1 Axes>"
            ]
          },
          "metadata": {
            "tags": [],
            "needs_background": "light"
          }
        },
        {
          "output_type": "display_data",
          "data": {
            "image/png": "[encoded data removed]",
            "text/plain": [
              "<Figure size 432x288 with 1 Axes>"
            ]
          },
          "metadata": {
            "tags": [],
            "needs_background": "light"
          }
        },
        {
          "output_type": "display_data",
          "data": {
            "image/png": "[encoded data removed]",
            "text/plain": [
              "<Figure size 432x288 with 1 Axes>"
            ]
          },
          "metadata": {
            "tags": [],
            "needs_background": "light"
          }
        }
      ]
    },
    {
      "cell_type": "code",
      "metadata": {
        "colab": {
          "base_uri": "https://localhost:8080/",
          "height": 514
        },
        "id": "Dc-XHw6HgePl",
        "outputId": "642574af-bfdb-46a4-b771-f1604ef66f59"
      },
      "source": [
        "for col in df.select_dtypes('object'):\n",
        "    plt.figure()\n",
        "    df[col].value_counts().plot.pie()"
      ],
      "execution_count": 18,
      "outputs": [
        {
          "output_type": "execute_result",
          "data": {
            "text/plain": [
              "<Figure size 432x288 with 0 Axes>"
            ]
          },
          "metadata": {
            "tags": []
          },
          "execution_count": 18
        },
        {
          "output_type": "execute_result",
          "data": {
            "text/plain": [
              "<matplotlib.axes._subplots.AxesSubplot at 0x7f776570bef0>"
            ]
          },
          "metadata": {
            "tags": []
          },
          "execution_count": 18
        },
        {
          "output_type": "execute_result",
          "data": {
            "text/plain": [
              "<Figure size 432x288 with 0 Axes>"
            ]
          },
          "metadata": {
            "tags": []
          },
          "execution_count": 18
        },
        {
          "output_type": "execute_result",
          "data": {
            "text/plain": [
              "<matplotlib.axes._subplots.AxesSubplot at 0x7f77635d7d30>"
            ]
          },
          "metadata": {
            "tags": []
          },
          "execution_count": 18
        },
        {
          "output_type": "display_data",
          "data": {
            "image/png": "[encoded data removed]",
            "text/plain": [
              "<Figure size 432x288 with 1 Axes>"
            ]
          },
          "metadata": {
            "tags": []
          }
        },
        {
          "output_type": "display_data",
          "data": {
            "image/png": "[encoded data removed]",
            "text/plain": [
              "<Figure size 432x288 with 1 Axes>"
            ]
          },
          "metadata": {
            "tags": []
          }
        }
      ]
    },
    {
      "cell_type": "code",
      "metadata": {
        "colab": {
          "base_uri": "https://localhost:8080/",
          "height": 401
        },
        "id": "x7iA5h-jgePl",
        "outputId": "bf5a9322-b039-4249-8cef-be6580c21881"
      },
      "source": [
        "sns.catplot(x='Category' , y='Age', data=df1, hue='Sex')"
      ],
      "execution_count": 19,
      "outputs": [
        {
          "output_type": "execute_result",
          "data": {
            "text/plain": [
              "<seaborn.axisgrid.FacetGrid at 0x7f776902ffd0>"
            ]
          },
          "metadata": {
            "tags": []
          },
          "execution_count": 19
        },
        {
          "output_type": "display_data",
          "data": {
            "image/png": "[encoded data removed]",
            "text/plain": [
              "<Figure size 405.625x360 with 1 Axes>"
            ]
          },
          "metadata": {
            "tags": [],
            "needs_background": "light"
          }
        }
      ]
    },
    {
      "cell_type": "code",
      "metadata": {
        "colab": {
          "base_uri": "https://localhost:8080/"
        },
        "id": "vN0GdCbrgePl",
        "outputId": "e988cb11-ff93-4fef-85d0-fe658a4ea2e2"
      },
      "source": [
        "for col in df.select_dtypes('object'):\n",
        "    print(f'{col :-<20} {df[col].unique()}')"
      ],
      "execution_count": 20,
      "outputs": [
        {
          "output_type": "stream",
          "text": [
            "Category------------ ['0=Blood Donor' '0s=suspect Blood Donor' '1=Hepatitis' '2=Fibrosis'\n",
            " '3=Cirrhosis']\n",
            "Sex----------------- ['m' 'f']\n"
          ],
          "name": "stdout"
        }
      ]
    },
    {
      "cell_type": "code",
      "metadata": {
        "colab": {
          "base_uri": "https://localhost:8080/"
        },
        "id": "gh6AYHLS_KHq",
        "outputId": "d7b5b26b-e49d-4c0c-c80f-c960ff91f78c"
      },
      "source": [
        "'''\n",
        "from sklearn.preprocessing import OneHotEncoder,LabelEncoder, LabelBinarizer, scale\n",
        "labenc = LabelEncoder()\n",
        "labenc.fit(df1.iloc[:,0])\n",
        "Xl = labenc.transform(df1.iloc[:,0]).reshape((-1,1))\n",
        "df1.iloc[:,0]=Xl\n",
        "#ohenc = OneHotEncoder(sparse=False)\n",
        "#ohenc.fit(Xl)\n",
        "#xt=ohenc.transform(Xl)\n",
        "'''\n",
        "    "
      ],
      "execution_count": 21,
      "outputs": [
        {
          "output_type": "execute_result",
          "data": {
            "text/plain": [
              "LabelEncoder()"
            ]
          },
          "metadata": {
            "tags": []
          },
          "execution_count": 21
        }
      ]
    },
    {
      "cell_type": "code",
      "metadata": {
        "colab": {
          "base_uri": "https://localhost:8080/",
          "height": 406
        },
        "id": "UDRRiIBJgLVN",
        "outputId": "33959b3e-3969-49de-ab2c-5eae3ddcad0d"
      },
      "source": [
        " labels = df1.pop(\"Category\")\r\n",
        " labels= pd.get_dummies(labels) \r\n",
        " labels"
      ],
      "execution_count": 171,
      "outputs": [
        {
          "output_type": "execute_result",
          "data": {
            "text/html": [
              "<div>\n",
              "<style scoped>\n",
              "    .dataframe tbody tr th:only-of-type {\n",
              "        vertical-align: middle;\n",
              "    }\n",
              "\n",
              "    .dataframe tbody tr th {\n",
              "        vertical-align: top;\n",
              "    }\n",
              "\n",
              "    .dataframe thead th {\n",
              "        text-align: right;\n",
              "    }\n",
              "</style>\n",
              "<table border=\"1\" class=\"dataframe\">\n",
              "  <thead>\n",
              "    <tr style=\"text-align: right;\">\n",
              "      <th></th>\n",
              "      <th>0=Blood Donor</th>\n",
              "      <th>0s=suspect Blood Donor</th>\n",
              "      <th>1=Hepatitis</th>\n",
              "      <th>2=Fibrosis</th>\n",
              "      <th>3=Cirrhosis</th>\n",
              "    </tr>\n",
              "  </thead>\n",
              "  <tbody>\n",
              "    <tr>\n",
              "      <th>0</th>\n",
              "      <td>1</td>\n",
              "      <td>0</td>\n",
              "      <td>0</td>\n",
              "      <td>0</td>\n",
              "      <td>0</td>\n",
              "    </tr>\n",
              "    <tr>\n",
              "      <th>1</th>\n",
              "      <td>1</td>\n",
              "      <td>0</td>\n",
              "      <td>0</td>\n",
              "      <td>0</td>\n",
              "      <td>0</td>\n",
              "    </tr>\n",
              "    <tr>\n",
              "      <th>2</th>\n",
              "      <td>1</td>\n",
              "      <td>0</td>\n",
              "      <td>0</td>\n",
              "      <td>0</td>\n",
              "      <td>0</td>\n",
              "    </tr>\n",
              "    <tr>\n",
              "      <th>3</th>\n",
              "      <td>1</td>\n",
              "      <td>0</td>\n",
              "      <td>0</td>\n",
              "      <td>0</td>\n",
              "      <td>0</td>\n",
              "    </tr>\n",
              "    <tr>\n",
              "      <th>4</th>\n",
              "      <td>1</td>\n",
              "      <td>0</td>\n",
              "      <td>0</td>\n",
              "      <td>0</td>\n",
              "      <td>0</td>\n",
              "    </tr>\n",
              "    <tr>\n",
              "      <th>...</th>\n",
              "      <td>...</td>\n",
              "      <td>...</td>\n",
              "      <td>...</td>\n",
              "      <td>...</td>\n",
              "      <td>...</td>\n",
              "    </tr>\n",
              "    <tr>\n",
              "      <th>610</th>\n",
              "      <td>0</td>\n",
              "      <td>0</td>\n",
              "      <td>0</td>\n",
              "      <td>0</td>\n",
              "      <td>1</td>\n",
              "    </tr>\n",
              "    <tr>\n",
              "      <th>611</th>\n",
              "      <td>0</td>\n",
              "      <td>0</td>\n",
              "      <td>0</td>\n",
              "      <td>0</td>\n",
              "      <td>1</td>\n",
              "    </tr>\n",
              "    <tr>\n",
              "      <th>612</th>\n",
              "      <td>0</td>\n",
              "      <td>0</td>\n",
              "      <td>0</td>\n",
              "      <td>0</td>\n",
              "      <td>1</td>\n",
              "    </tr>\n",
              "    <tr>\n",
              "      <th>613</th>\n",
              "      <td>0</td>\n",
              "      <td>0</td>\n",
              "      <td>0</td>\n",
              "      <td>0</td>\n",
              "      <td>1</td>\n",
              "    </tr>\n",
              "    <tr>\n",
              "      <th>614</th>\n",
              "      <td>0</td>\n",
              "      <td>0</td>\n",
              "      <td>0</td>\n",
              "      <td>0</td>\n",
              "      <td>1</td>\n",
              "    </tr>\n",
              "  </tbody>\n",
              "</table>\n",
              "<p>615 rows × 5 columns</p>\n",
              "</div>"
            ],
            "text/plain": [
              "     0=Blood Donor  0s=suspect Blood Donor  ...  2=Fibrosis  3=Cirrhosis\n",
              "0                1                       0  ...           0            0\n",
              "1                1                       0  ...           0            0\n",
              "2                1                       0  ...           0            0\n",
              "3                1                       0  ...           0            0\n",
              "4                1                       0  ...           0            0\n",
              "..             ...                     ...  ...         ...          ...\n",
              "610              0                       0  ...           0            1\n",
              "611              0                       0  ...           0            1\n",
              "612              0                       0  ...           0            1\n",
              "613              0                       0  ...           0            1\n",
              "614              0                       0  ...           0            1\n",
              "\n",
              "[615 rows x 5 columns]"
            ]
          },
          "metadata": {
            "tags": []
          },
          "execution_count": 171
        }
      ]
    },
    {
      "cell_type": "code",
      "metadata": {
        "colab": {
          "base_uri": "https://localhost:8080/",
          "height": 460
        },
        "id": "jTtcsUFPAOBG",
        "outputId": "406c786f-1664-47ba-9d0a-a4835768f927"
      },
      "source": [
        "df1 = pd.concat([labels, df1], axis=1)\r\n",
        "df1"
      ],
      "execution_count": 172,
      "outputs": [
        {
          "output_type": "execute_result",
          "data": {
            "text/html": [
              "<div>\n",
              "<style scoped>\n",
              "    .dataframe tbody tr th:only-of-type {\n",
              "        vertical-align: middle;\n",
              "    }\n",
              "\n",
              "    .dataframe tbody tr th {\n",
              "        vertical-align: top;\n",
              "    }\n",
              "\n",
              "    .dataframe thead th {\n",
              "        text-align: right;\n",
              "    }\n",
              "</style>\n",
              "<table border=\"1\" class=\"dataframe\">\n",
              "  <thead>\n",
              "    <tr style=\"text-align: right;\">\n",
              "      <th></th>\n",
              "      <th>0=Blood Donor</th>\n",
              "      <th>0s=suspect Blood Donor</th>\n",
              "      <th>1=Hepatitis</th>\n",
              "      <th>2=Fibrosis</th>\n",
              "      <th>3=Cirrhosis</th>\n",
              "      <th>Age</th>\n",
              "      <th>Sex</th>\n",
              "      <th>ALB</th>\n",
              "      <th>ALP</th>\n",
              "      <th>ALT</th>\n",
              "      <th>AST</th>\n",
              "      <th>BIL</th>\n",
              "      <th>CHE</th>\n",
              "      <th>CHOL</th>\n",
              "      <th>CREA</th>\n",
              "      <th>GGT</th>\n",
              "      <th>PROT</th>\n",
              "    </tr>\n",
              "  </thead>\n",
              "  <tbody>\n",
              "    <tr>\n",
              "      <th>0</th>\n",
              "      <td>1</td>\n",
              "      <td>0</td>\n",
              "      <td>0</td>\n",
              "      <td>0</td>\n",
              "      <td>0</td>\n",
              "      <td>32</td>\n",
              "      <td>m</td>\n",
              "      <td>38.5</td>\n",
              "      <td>52.5</td>\n",
              "      <td>7.7</td>\n",
              "      <td>22.1</td>\n",
              "      <td>7.5</td>\n",
              "      <td>6.93</td>\n",
              "      <td>3.23</td>\n",
              "      <td>106.0</td>\n",
              "      <td>12.1</td>\n",
              "      <td>69.0</td>\n",
              "    </tr>\n",
              "    <tr>\n",
              "      <th>1</th>\n",
              "      <td>1</td>\n",
              "      <td>0</td>\n",
              "      <td>0</td>\n",
              "      <td>0</td>\n",
              "      <td>0</td>\n",
              "      <td>32</td>\n",
              "      <td>m</td>\n",
              "      <td>38.5</td>\n",
              "      <td>70.3</td>\n",
              "      <td>18.0</td>\n",
              "      <td>24.7</td>\n",
              "      <td>3.9</td>\n",
              "      <td>11.17</td>\n",
              "      <td>4.80</td>\n",
              "      <td>74.0</td>\n",
              "      <td>15.6</td>\n",
              "      <td>76.5</td>\n",
              "    </tr>\n",
              "    <tr>\n",
              "      <th>2</th>\n",
              "      <td>1</td>\n",
              "      <td>0</td>\n",
              "      <td>0</td>\n",
              "      <td>0</td>\n",
              "      <td>0</td>\n",
              "      <td>32</td>\n",
              "      <td>m</td>\n",
              "      <td>46.9</td>\n",
              "      <td>74.7</td>\n",
              "      <td>36.2</td>\n",
              "      <td>52.6</td>\n",
              "      <td>6.1</td>\n",
              "      <td>8.84</td>\n",
              "      <td>5.20</td>\n",
              "      <td>86.0</td>\n",
              "      <td>33.2</td>\n",
              "      <td>79.3</td>\n",
              "    </tr>\n",
              "    <tr>\n",
              "      <th>3</th>\n",
              "      <td>1</td>\n",
              "      <td>0</td>\n",
              "      <td>0</td>\n",
              "      <td>0</td>\n",
              "      <td>0</td>\n",
              "      <td>32</td>\n",
              "      <td>m</td>\n",
              "      <td>43.2</td>\n",
              "      <td>52.0</td>\n",
              "      <td>30.6</td>\n",
              "      <td>22.6</td>\n",
              "      <td>18.9</td>\n",
              "      <td>7.33</td>\n",
              "      <td>4.74</td>\n",
              "      <td>80.0</td>\n",
              "      <td>33.8</td>\n",
              "      <td>75.7</td>\n",
              "    </tr>\n",
              "    <tr>\n",
              "      <th>4</th>\n",
              "      <td>1</td>\n",
              "      <td>0</td>\n",
              "      <td>0</td>\n",
              "      <td>0</td>\n",
              "      <td>0</td>\n",
              "      <td>32</td>\n",
              "      <td>m</td>\n",
              "      <td>39.2</td>\n",
              "      <td>74.1</td>\n",
              "      <td>32.6</td>\n",
              "      <td>24.8</td>\n",
              "      <td>9.6</td>\n",
              "      <td>9.15</td>\n",
              "      <td>4.32</td>\n",
              "      <td>76.0</td>\n",
              "      <td>29.9</td>\n",
              "      <td>68.7</td>\n",
              "    </tr>\n",
              "    <tr>\n",
              "      <th>...</th>\n",
              "      <td>...</td>\n",
              "      <td>...</td>\n",
              "      <td>...</td>\n",
              "      <td>...</td>\n",
              "      <td>...</td>\n",
              "      <td>...</td>\n",
              "      <td>...</td>\n",
              "      <td>...</td>\n",
              "      <td>...</td>\n",
              "      <td>...</td>\n",
              "      <td>...</td>\n",
              "      <td>...</td>\n",
              "      <td>...</td>\n",
              "      <td>...</td>\n",
              "      <td>...</td>\n",
              "      <td>...</td>\n",
              "      <td>...</td>\n",
              "    </tr>\n",
              "    <tr>\n",
              "      <th>610</th>\n",
              "      <td>0</td>\n",
              "      <td>0</td>\n",
              "      <td>0</td>\n",
              "      <td>0</td>\n",
              "      <td>1</td>\n",
              "      <td>62</td>\n",
              "      <td>f</td>\n",
              "      <td>32.0</td>\n",
              "      <td>416.6</td>\n",
              "      <td>5.9</td>\n",
              "      <td>110.3</td>\n",
              "      <td>50.0</td>\n",
              "      <td>5.57</td>\n",
              "      <td>6.30</td>\n",
              "      <td>55.7</td>\n",
              "      <td>650.9</td>\n",
              "      <td>68.5</td>\n",
              "    </tr>\n",
              "    <tr>\n",
              "      <th>611</th>\n",
              "      <td>0</td>\n",
              "      <td>0</td>\n",
              "      <td>0</td>\n",
              "      <td>0</td>\n",
              "      <td>1</td>\n",
              "      <td>64</td>\n",
              "      <td>f</td>\n",
              "      <td>24.0</td>\n",
              "      <td>102.8</td>\n",
              "      <td>2.9</td>\n",
              "      <td>44.4</td>\n",
              "      <td>20.0</td>\n",
              "      <td>1.54</td>\n",
              "      <td>3.02</td>\n",
              "      <td>63.0</td>\n",
              "      <td>35.9</td>\n",
              "      <td>71.3</td>\n",
              "    </tr>\n",
              "    <tr>\n",
              "      <th>612</th>\n",
              "      <td>0</td>\n",
              "      <td>0</td>\n",
              "      <td>0</td>\n",
              "      <td>0</td>\n",
              "      <td>1</td>\n",
              "      <td>64</td>\n",
              "      <td>f</td>\n",
              "      <td>29.0</td>\n",
              "      <td>87.3</td>\n",
              "      <td>3.5</td>\n",
              "      <td>99.0</td>\n",
              "      <td>48.0</td>\n",
              "      <td>1.66</td>\n",
              "      <td>3.63</td>\n",
              "      <td>66.7</td>\n",
              "      <td>64.2</td>\n",
              "      <td>82.0</td>\n",
              "    </tr>\n",
              "    <tr>\n",
              "      <th>613</th>\n",
              "      <td>0</td>\n",
              "      <td>0</td>\n",
              "      <td>0</td>\n",
              "      <td>0</td>\n",
              "      <td>1</td>\n",
              "      <td>46</td>\n",
              "      <td>f</td>\n",
              "      <td>33.0</td>\n",
              "      <td>NaN</td>\n",
              "      <td>39.0</td>\n",
              "      <td>62.0</td>\n",
              "      <td>20.0</td>\n",
              "      <td>3.56</td>\n",
              "      <td>4.20</td>\n",
              "      <td>52.0</td>\n",
              "      <td>50.0</td>\n",
              "      <td>71.0</td>\n",
              "    </tr>\n",
              "    <tr>\n",
              "      <th>614</th>\n",
              "      <td>0</td>\n",
              "      <td>0</td>\n",
              "      <td>0</td>\n",
              "      <td>0</td>\n",
              "      <td>1</td>\n",
              "      <td>59</td>\n",
              "      <td>f</td>\n",
              "      <td>36.0</td>\n",
              "      <td>NaN</td>\n",
              "      <td>100.0</td>\n",
              "      <td>80.0</td>\n",
              "      <td>12.0</td>\n",
              "      <td>9.07</td>\n",
              "      <td>5.30</td>\n",
              "      <td>67.0</td>\n",
              "      <td>34.0</td>\n",
              "      <td>68.0</td>\n",
              "    </tr>\n",
              "  </tbody>\n",
              "</table>\n",
              "<p>615 rows × 17 columns</p>\n",
              "</div>"
            ],
            "text/plain": [
              "     0=Blood Donor  0s=suspect Blood Donor  1=Hepatitis  ...   CREA    GGT  PROT\n",
              "0                1                       0            0  ...  106.0   12.1  69.0\n",
              "1                1                       0            0  ...   74.0   15.6  76.5\n",
              "2                1                       0            0  ...   86.0   33.2  79.3\n",
              "3                1                       0            0  ...   80.0   33.8  75.7\n",
              "4                1                       0            0  ...   76.0   29.9  68.7\n",
              "..             ...                     ...          ...  ...    ...    ...   ...\n",
              "610              0                       0            0  ...   55.7  650.9  68.5\n",
              "611              0                       0            0  ...   63.0   35.9  71.3\n",
              "612              0                       0            0  ...   66.7   64.2  82.0\n",
              "613              0                       0            0  ...   52.0   50.0  71.0\n",
              "614              0                       0            0  ...   67.0   34.0  68.0\n",
              "\n",
              "[615 rows x 17 columns]"
            ]
          },
          "metadata": {
            "tags": []
          },
          "execution_count": 172
        }
      ]
    },
    {
      "cell_type": "code",
      "metadata": {
        "colab": {
          "base_uri": "https://localhost:8080/"
        },
        "id": "N1BNU5UKgePl",
        "outputId": "e522d788-ec05-448c-b927-ec0dd5819b0f"
      },
      "source": [
        "val_df = df1.sample(frac=0.1, random_state=1337)\n",
        "train_df = df1.drop(val_df.index)\n",
        "\n",
        "print(\n",
        "    \"Using %d samples for training and %d for validation\"\n",
        "    % (len(train_df), len(val_df))\n",
        ")"
      ],
      "execution_count": 173,
      "outputs": [
        {
          "output_type": "stream",
          "text": [
            "Using 553 samples for training and 62 for validation\n"
          ],
          "name": "stdout"
        }
      ]
    },
    {
      "cell_type": "code",
      "metadata": {
        "colab": {
          "base_uri": "https://localhost:8080/",
          "height": 460
        },
        "id": "1PWbYBUwgePl",
        "outputId": "b9147692-bd75-4e81-bade-d401266e9387"
      },
      "source": [
        "train_df"
      ],
      "execution_count": 174,
      "outputs": [
        {
          "output_type": "execute_result",
          "data": {
            "text/html": [
              "<div>\n",
              "<style scoped>\n",
              "    .dataframe tbody tr th:only-of-type {\n",
              "        vertical-align: middle;\n",
              "    }\n",
              "\n",
              "    .dataframe tbody tr th {\n",
              "        vertical-align: top;\n",
              "    }\n",
              "\n",
              "    .dataframe thead th {\n",
              "        text-align: right;\n",
              "    }\n",
              "</style>\n",
              "<table border=\"1\" class=\"dataframe\">\n",
              "  <thead>\n",
              "    <tr style=\"text-align: right;\">\n",
              "      <th></th>\n",
              "      <th>0=Blood Donor</th>\n",
              "      <th>0s=suspect Blood Donor</th>\n",
              "      <th>1=Hepatitis</th>\n",
              "      <th>2=Fibrosis</th>\n",
              "      <th>3=Cirrhosis</th>\n",
              "      <th>Age</th>\n",
              "      <th>Sex</th>\n",
              "      <th>ALB</th>\n",
              "      <th>ALP</th>\n",
              "      <th>ALT</th>\n",
              "      <th>AST</th>\n",
              "      <th>BIL</th>\n",
              "      <th>CHE</th>\n",
              "      <th>CHOL</th>\n",
              "      <th>CREA</th>\n",
              "      <th>GGT</th>\n",
              "      <th>PROT</th>\n",
              "    </tr>\n",
              "  </thead>\n",
              "  <tbody>\n",
              "    <tr>\n",
              "      <th>0</th>\n",
              "      <td>1</td>\n",
              "      <td>0</td>\n",
              "      <td>0</td>\n",
              "      <td>0</td>\n",
              "      <td>0</td>\n",
              "      <td>32</td>\n",
              "      <td>m</td>\n",
              "      <td>38.5</td>\n",
              "      <td>52.5</td>\n",
              "      <td>7.7</td>\n",
              "      <td>22.1</td>\n",
              "      <td>7.5</td>\n",
              "      <td>6.93</td>\n",
              "      <td>3.23</td>\n",
              "      <td>106.0</td>\n",
              "      <td>12.1</td>\n",
              "      <td>69.0</td>\n",
              "    </tr>\n",
              "    <tr>\n",
              "      <th>1</th>\n",
              "      <td>1</td>\n",
              "      <td>0</td>\n",
              "      <td>0</td>\n",
              "      <td>0</td>\n",
              "      <td>0</td>\n",
              "      <td>32</td>\n",
              "      <td>m</td>\n",
              "      <td>38.5</td>\n",
              "      <td>70.3</td>\n",
              "      <td>18.0</td>\n",
              "      <td>24.7</td>\n",
              "      <td>3.9</td>\n",
              "      <td>11.17</td>\n",
              "      <td>4.80</td>\n",
              "      <td>74.0</td>\n",
              "      <td>15.6</td>\n",
              "      <td>76.5</td>\n",
              "    </tr>\n",
              "    <tr>\n",
              "      <th>2</th>\n",
              "      <td>1</td>\n",
              "      <td>0</td>\n",
              "      <td>0</td>\n",
              "      <td>0</td>\n",
              "      <td>0</td>\n",
              "      <td>32</td>\n",
              "      <td>m</td>\n",
              "      <td>46.9</td>\n",
              "      <td>74.7</td>\n",
              "      <td>36.2</td>\n",
              "      <td>52.6</td>\n",
              "      <td>6.1</td>\n",
              "      <td>8.84</td>\n",
              "      <td>5.20</td>\n",
              "      <td>86.0</td>\n",
              "      <td>33.2</td>\n",
              "      <td>79.3</td>\n",
              "    </tr>\n",
              "    <tr>\n",
              "      <th>4</th>\n",
              "      <td>1</td>\n",
              "      <td>0</td>\n",
              "      <td>0</td>\n",
              "      <td>0</td>\n",
              "      <td>0</td>\n",
              "      <td>32</td>\n",
              "      <td>m</td>\n",
              "      <td>39.2</td>\n",
              "      <td>74.1</td>\n",
              "      <td>32.6</td>\n",
              "      <td>24.8</td>\n",
              "      <td>9.6</td>\n",
              "      <td>9.15</td>\n",
              "      <td>4.32</td>\n",
              "      <td>76.0</td>\n",
              "      <td>29.9</td>\n",
              "      <td>68.7</td>\n",
              "    </tr>\n",
              "    <tr>\n",
              "      <th>5</th>\n",
              "      <td>1</td>\n",
              "      <td>0</td>\n",
              "      <td>0</td>\n",
              "      <td>0</td>\n",
              "      <td>0</td>\n",
              "      <td>32</td>\n",
              "      <td>m</td>\n",
              "      <td>41.6</td>\n",
              "      <td>43.3</td>\n",
              "      <td>18.5</td>\n",
              "      <td>19.7</td>\n",
              "      <td>12.3</td>\n",
              "      <td>9.92</td>\n",
              "      <td>6.05</td>\n",
              "      <td>111.0</td>\n",
              "      <td>91.0</td>\n",
              "      <td>74.0</td>\n",
              "    </tr>\n",
              "    <tr>\n",
              "      <th>...</th>\n",
              "      <td>...</td>\n",
              "      <td>...</td>\n",
              "      <td>...</td>\n",
              "      <td>...</td>\n",
              "      <td>...</td>\n",
              "      <td>...</td>\n",
              "      <td>...</td>\n",
              "      <td>...</td>\n",
              "      <td>...</td>\n",
              "      <td>...</td>\n",
              "      <td>...</td>\n",
              "      <td>...</td>\n",
              "      <td>...</td>\n",
              "      <td>...</td>\n",
              "      <td>...</td>\n",
              "      <td>...</td>\n",
              "      <td>...</td>\n",
              "    </tr>\n",
              "    <tr>\n",
              "      <th>610</th>\n",
              "      <td>0</td>\n",
              "      <td>0</td>\n",
              "      <td>0</td>\n",
              "      <td>0</td>\n",
              "      <td>1</td>\n",
              "      <td>62</td>\n",
              "      <td>f</td>\n",
              "      <td>32.0</td>\n",
              "      <td>416.6</td>\n",
              "      <td>5.9</td>\n",
              "      <td>110.3</td>\n",
              "      <td>50.0</td>\n",
              "      <td>5.57</td>\n",
              "      <td>6.30</td>\n",
              "      <td>55.7</td>\n",
              "      <td>650.9</td>\n",
              "      <td>68.5</td>\n",
              "    </tr>\n",
              "    <tr>\n",
              "      <th>611</th>\n",
              "      <td>0</td>\n",
              "      <td>0</td>\n",
              "      <td>0</td>\n",
              "      <td>0</td>\n",
              "      <td>1</td>\n",
              "      <td>64</td>\n",
              "      <td>f</td>\n",
              "      <td>24.0</td>\n",
              "      <td>102.8</td>\n",
              "      <td>2.9</td>\n",
              "      <td>44.4</td>\n",
              "      <td>20.0</td>\n",
              "      <td>1.54</td>\n",
              "      <td>3.02</td>\n",
              "      <td>63.0</td>\n",
              "      <td>35.9</td>\n",
              "      <td>71.3</td>\n",
              "    </tr>\n",
              "    <tr>\n",
              "      <th>612</th>\n",
              "      <td>0</td>\n",
              "      <td>0</td>\n",
              "      <td>0</td>\n",
              "      <td>0</td>\n",
              "      <td>1</td>\n",
              "      <td>64</td>\n",
              "      <td>f</td>\n",
              "      <td>29.0</td>\n",
              "      <td>87.3</td>\n",
              "      <td>3.5</td>\n",
              "      <td>99.0</td>\n",
              "      <td>48.0</td>\n",
              "      <td>1.66</td>\n",
              "      <td>3.63</td>\n",
              "      <td>66.7</td>\n",
              "      <td>64.2</td>\n",
              "      <td>82.0</td>\n",
              "    </tr>\n",
              "    <tr>\n",
              "      <th>613</th>\n",
              "      <td>0</td>\n",
              "      <td>0</td>\n",
              "      <td>0</td>\n",
              "      <td>0</td>\n",
              "      <td>1</td>\n",
              "      <td>46</td>\n",
              "      <td>f</td>\n",
              "      <td>33.0</td>\n",
              "      <td>NaN</td>\n",
              "      <td>39.0</td>\n",
              "      <td>62.0</td>\n",
              "      <td>20.0</td>\n",
              "      <td>3.56</td>\n",
              "      <td>4.20</td>\n",
              "      <td>52.0</td>\n",
              "      <td>50.0</td>\n",
              "      <td>71.0</td>\n",
              "    </tr>\n",
              "    <tr>\n",
              "      <th>614</th>\n",
              "      <td>0</td>\n",
              "      <td>0</td>\n",
              "      <td>0</td>\n",
              "      <td>0</td>\n",
              "      <td>1</td>\n",
              "      <td>59</td>\n",
              "      <td>f</td>\n",
              "      <td>36.0</td>\n",
              "      <td>NaN</td>\n",
              "      <td>100.0</td>\n",
              "      <td>80.0</td>\n",
              "      <td>12.0</td>\n",
              "      <td>9.07</td>\n",
              "      <td>5.30</td>\n",
              "      <td>67.0</td>\n",
              "      <td>34.0</td>\n",
              "      <td>68.0</td>\n",
              "    </tr>\n",
              "  </tbody>\n",
              "</table>\n",
              "<p>553 rows × 17 columns</p>\n",
              "</div>"
            ],
            "text/plain": [
              "     0=Blood Donor  0s=suspect Blood Donor  1=Hepatitis  ...   CREA    GGT  PROT\n",
              "0                1                       0            0  ...  106.0   12.1  69.0\n",
              "1                1                       0            0  ...   74.0   15.6  76.5\n",
              "2                1                       0            0  ...   86.0   33.2  79.3\n",
              "4                1                       0            0  ...   76.0   29.9  68.7\n",
              "5                1                       0            0  ...  111.0   91.0  74.0\n",
              "..             ...                     ...          ...  ...    ...    ...   ...\n",
              "610              0                       0            0  ...   55.7  650.9  68.5\n",
              "611              0                       0            0  ...   63.0   35.9  71.3\n",
              "612              0                       0            0  ...   66.7   64.2  82.0\n",
              "613              0                       0            0  ...   52.0   50.0  71.0\n",
              "614              0                       0            0  ...   67.0   34.0  68.0\n",
              "\n",
              "[553 rows x 17 columns]"
            ]
          },
          "metadata": {
            "tags": []
          },
          "execution_count": 174
        }
      ]
    },
    {
      "cell_type": "code",
      "metadata": {
        "colab": {
          "base_uri": "https://localhost:8080/",
          "height": 850
        },
        "id": "cYa1ko_GdH3H",
        "outputId": "695b912b-5200-4bee-d329-12f593f2b8ef"
      },
      "source": [
        " '''\r\n",
        " labels = train_df.pop(\"Category\")\r\n",
        " labels= pd.get_dummies(labels) \r\n",
        " labels\r\n",
        " train_df= pd.concat([labels, train_df], axis=1)\r\n",
        " train_df\r\n",
        " '''"
      ],
      "execution_count": 162,
      "outputs": [
        {
          "output_type": "execute_result",
          "data": {
            "text/html": [
              "<div>\n",
              "<style scoped>\n",
              "    .dataframe tbody tr th:only-of-type {\n",
              "        vertical-align: middle;\n",
              "    }\n",
              "\n",
              "    .dataframe tbody tr th {\n",
              "        vertical-align: top;\n",
              "    }\n",
              "\n",
              "    .dataframe thead th {\n",
              "        text-align: right;\n",
              "    }\n",
              "</style>\n",
              "<table border=\"1\" class=\"dataframe\">\n",
              "  <thead>\n",
              "    <tr style=\"text-align: right;\">\n",
              "      <th></th>\n",
              "      <th>0=Blood Donor</th>\n",
              "      <th>0s=suspect Blood Donor</th>\n",
              "      <th>1=Hepatitis</th>\n",
              "      <th>2=Fibrosis</th>\n",
              "      <th>3=Cirrhosis</th>\n",
              "    </tr>\n",
              "  </thead>\n",
              "  <tbody>\n",
              "    <tr>\n",
              "      <th>0</th>\n",
              "      <td>1</td>\n",
              "      <td>0</td>\n",
              "      <td>0</td>\n",
              "      <td>0</td>\n",
              "      <td>0</td>\n",
              "    </tr>\n",
              "    <tr>\n",
              "      <th>1</th>\n",
              "      <td>1</td>\n",
              "      <td>0</td>\n",
              "      <td>0</td>\n",
              "      <td>0</td>\n",
              "      <td>0</td>\n",
              "    </tr>\n",
              "    <tr>\n",
              "      <th>2</th>\n",
              "      <td>1</td>\n",
              "      <td>0</td>\n",
              "      <td>0</td>\n",
              "      <td>0</td>\n",
              "      <td>0</td>\n",
              "    </tr>\n",
              "    <tr>\n",
              "      <th>4</th>\n",
              "      <td>1</td>\n",
              "      <td>0</td>\n",
              "      <td>0</td>\n",
              "      <td>0</td>\n",
              "      <td>0</td>\n",
              "    </tr>\n",
              "    <tr>\n",
              "      <th>5</th>\n",
              "      <td>1</td>\n",
              "      <td>0</td>\n",
              "      <td>0</td>\n",
              "      <td>0</td>\n",
              "      <td>0</td>\n",
              "    </tr>\n",
              "    <tr>\n",
              "      <th>...</th>\n",
              "      <td>...</td>\n",
              "      <td>...</td>\n",
              "      <td>...</td>\n",
              "      <td>...</td>\n",
              "      <td>...</td>\n",
              "    </tr>\n",
              "    <tr>\n",
              "      <th>610</th>\n",
              "      <td>0</td>\n",
              "      <td>0</td>\n",
              "      <td>0</td>\n",
              "      <td>0</td>\n",
              "      <td>1</td>\n",
              "    </tr>\n",
              "    <tr>\n",
              "      <th>611</th>\n",
              "      <td>0</td>\n",
              "      <td>0</td>\n",
              "      <td>0</td>\n",
              "      <td>0</td>\n",
              "      <td>1</td>\n",
              "    </tr>\n",
              "    <tr>\n",
              "      <th>612</th>\n",
              "      <td>0</td>\n",
              "      <td>0</td>\n",
              "      <td>0</td>\n",
              "      <td>0</td>\n",
              "      <td>1</td>\n",
              "    </tr>\n",
              "    <tr>\n",
              "      <th>613</th>\n",
              "      <td>0</td>\n",
              "      <td>0</td>\n",
              "      <td>0</td>\n",
              "      <td>0</td>\n",
              "      <td>1</td>\n",
              "    </tr>\n",
              "    <tr>\n",
              "      <th>614</th>\n",
              "      <td>0</td>\n",
              "      <td>0</td>\n",
              "      <td>0</td>\n",
              "      <td>0</td>\n",
              "      <td>1</td>\n",
              "    </tr>\n",
              "  </tbody>\n",
              "</table>\n",
              "<p>553 rows × 5 columns</p>\n",
              "</div>"
            ],
            "text/plain": [
              "     0=Blood Donor  0s=suspect Blood Donor  ...  2=Fibrosis  3=Cirrhosis\n",
              "0                1                       0  ...           0            0\n",
              "1                1                       0  ...           0            0\n",
              "2                1                       0  ...           0            0\n",
              "4                1                       0  ...           0            0\n",
              "5                1                       0  ...           0            0\n",
              "..             ...                     ...  ...         ...          ...\n",
              "610              0                       0  ...           0            1\n",
              "611              0                       0  ...           0            1\n",
              "612              0                       0  ...           0            1\n",
              "613              0                       0  ...           0            1\n",
              "614              0                       0  ...           0            1\n",
              "\n",
              "[553 rows x 5 columns]"
            ]
          },
          "metadata": {
            "tags": []
          },
          "execution_count": 162
        },
        {
          "output_type": "execute_result",
          "data": {
            "text/html": [
              "<div>\n",
              "<style scoped>\n",
              "    .dataframe tbody tr th:only-of-type {\n",
              "        vertical-align: middle;\n",
              "    }\n",
              "\n",
              "    .dataframe tbody tr th {\n",
              "        vertical-align: top;\n",
              "    }\n",
              "\n",
              "    .dataframe thead th {\n",
              "        text-align: right;\n",
              "    }\n",
              "</style>\n",
              "<table border=\"1\" class=\"dataframe\">\n",
              "  <thead>\n",
              "    <tr style=\"text-align: right;\">\n",
              "      <th></th>\n",
              "      <th>0=Blood Donor</th>\n",
              "      <th>0s=suspect Blood Donor</th>\n",
              "      <th>1=Hepatitis</th>\n",
              "      <th>2=Fibrosis</th>\n",
              "      <th>3=Cirrhosis</th>\n",
              "      <th>Age</th>\n",
              "      <th>Sex</th>\n",
              "      <th>ALB</th>\n",
              "      <th>ALP</th>\n",
              "      <th>ALT</th>\n",
              "      <th>AST</th>\n",
              "      <th>BIL</th>\n",
              "      <th>CHE</th>\n",
              "      <th>CHOL</th>\n",
              "      <th>CREA</th>\n",
              "      <th>GGT</th>\n",
              "      <th>PROT</th>\n",
              "    </tr>\n",
              "  </thead>\n",
              "  <tbody>\n",
              "    <tr>\n",
              "      <th>0</th>\n",
              "      <td>1</td>\n",
              "      <td>0</td>\n",
              "      <td>0</td>\n",
              "      <td>0</td>\n",
              "      <td>0</td>\n",
              "      <td>32</td>\n",
              "      <td>m</td>\n",
              "      <td>38.5</td>\n",
              "      <td>52.5</td>\n",
              "      <td>7.7</td>\n",
              "      <td>22.1</td>\n",
              "      <td>7.5</td>\n",
              "      <td>6.93</td>\n",
              "      <td>3.23</td>\n",
              "      <td>106.0</td>\n",
              "      <td>12.1</td>\n",
              "      <td>69.0</td>\n",
              "    </tr>\n",
              "    <tr>\n",
              "      <th>1</th>\n",
              "      <td>1</td>\n",
              "      <td>0</td>\n",
              "      <td>0</td>\n",
              "      <td>0</td>\n",
              "      <td>0</td>\n",
              "      <td>32</td>\n",
              "      <td>m</td>\n",
              "      <td>38.5</td>\n",
              "      <td>70.3</td>\n",
              "      <td>18.0</td>\n",
              "      <td>24.7</td>\n",
              "      <td>3.9</td>\n",
              "      <td>11.17</td>\n",
              "      <td>4.80</td>\n",
              "      <td>74.0</td>\n",
              "      <td>15.6</td>\n",
              "      <td>76.5</td>\n",
              "    </tr>\n",
              "    <tr>\n",
              "      <th>2</th>\n",
              "      <td>1</td>\n",
              "      <td>0</td>\n",
              "      <td>0</td>\n",
              "      <td>0</td>\n",
              "      <td>0</td>\n",
              "      <td>32</td>\n",
              "      <td>m</td>\n",
              "      <td>46.9</td>\n",
              "      <td>74.7</td>\n",
              "      <td>36.2</td>\n",
              "      <td>52.6</td>\n",
              "      <td>6.1</td>\n",
              "      <td>8.84</td>\n",
              "      <td>5.20</td>\n",
              "      <td>86.0</td>\n",
              "      <td>33.2</td>\n",
              "      <td>79.3</td>\n",
              "    </tr>\n",
              "    <tr>\n",
              "      <th>4</th>\n",
              "      <td>1</td>\n",
              "      <td>0</td>\n",
              "      <td>0</td>\n",
              "      <td>0</td>\n",
              "      <td>0</td>\n",
              "      <td>32</td>\n",
              "      <td>m</td>\n",
              "      <td>39.2</td>\n",
              "      <td>74.1</td>\n",
              "      <td>32.6</td>\n",
              "      <td>24.8</td>\n",
              "      <td>9.6</td>\n",
              "      <td>9.15</td>\n",
              "      <td>4.32</td>\n",
              "      <td>76.0</td>\n",
              "      <td>29.9</td>\n",
              "      <td>68.7</td>\n",
              "    </tr>\n",
              "    <tr>\n",
              "      <th>5</th>\n",
              "      <td>1</td>\n",
              "      <td>0</td>\n",
              "      <td>0</td>\n",
              "      <td>0</td>\n",
              "      <td>0</td>\n",
              "      <td>32</td>\n",
              "      <td>m</td>\n",
              "      <td>41.6</td>\n",
              "      <td>43.3</td>\n",
              "      <td>18.5</td>\n",
              "      <td>19.7</td>\n",
              "      <td>12.3</td>\n",
              "      <td>9.92</td>\n",
              "      <td>6.05</td>\n",
              "      <td>111.0</td>\n",
              "      <td>91.0</td>\n",
              "      <td>74.0</td>\n",
              "    </tr>\n",
              "    <tr>\n",
              "      <th>...</th>\n",
              "      <td>...</td>\n",
              "      <td>...</td>\n",
              "      <td>...</td>\n",
              "      <td>...</td>\n",
              "      <td>...</td>\n",
              "      <td>...</td>\n",
              "      <td>...</td>\n",
              "      <td>...</td>\n",
              "      <td>...</td>\n",
              "      <td>...</td>\n",
              "      <td>...</td>\n",
              "      <td>...</td>\n",
              "      <td>...</td>\n",
              "      <td>...</td>\n",
              "      <td>...</td>\n",
              "      <td>...</td>\n",
              "      <td>...</td>\n",
              "    </tr>\n",
              "    <tr>\n",
              "      <th>610</th>\n",
              "      <td>0</td>\n",
              "      <td>0</td>\n",
              "      <td>0</td>\n",
              "      <td>0</td>\n",
              "      <td>1</td>\n",
              "      <td>62</td>\n",
              "      <td>f</td>\n",
              "      <td>32.0</td>\n",
              "      <td>416.6</td>\n",
              "      <td>5.9</td>\n",
              "      <td>110.3</td>\n",
              "      <td>50.0</td>\n",
              "      <td>5.57</td>\n",
              "      <td>6.30</td>\n",
              "      <td>55.7</td>\n",
              "      <td>650.9</td>\n",
              "      <td>68.5</td>\n",
              "    </tr>\n",
              "    <tr>\n",
              "      <th>611</th>\n",
              "      <td>0</td>\n",
              "      <td>0</td>\n",
              "      <td>0</td>\n",
              "      <td>0</td>\n",
              "      <td>1</td>\n",
              "      <td>64</td>\n",
              "      <td>f</td>\n",
              "      <td>24.0</td>\n",
              "      <td>102.8</td>\n",
              "      <td>2.9</td>\n",
              "      <td>44.4</td>\n",
              "      <td>20.0</td>\n",
              "      <td>1.54</td>\n",
              "      <td>3.02</td>\n",
              "      <td>63.0</td>\n",
              "      <td>35.9</td>\n",
              "      <td>71.3</td>\n",
              "    </tr>\n",
              "    <tr>\n",
              "      <th>612</th>\n",
              "      <td>0</td>\n",
              "      <td>0</td>\n",
              "      <td>0</td>\n",
              "      <td>0</td>\n",
              "      <td>1</td>\n",
              "      <td>64</td>\n",
              "      <td>f</td>\n",
              "      <td>29.0</td>\n",
              "      <td>87.3</td>\n",
              "      <td>3.5</td>\n",
              "      <td>99.0</td>\n",
              "      <td>48.0</td>\n",
              "      <td>1.66</td>\n",
              "      <td>3.63</td>\n",
              "      <td>66.7</td>\n",
              "      <td>64.2</td>\n",
              "      <td>82.0</td>\n",
              "    </tr>\n",
              "    <tr>\n",
              "      <th>613</th>\n",
              "      <td>0</td>\n",
              "      <td>0</td>\n",
              "      <td>0</td>\n",
              "      <td>0</td>\n",
              "      <td>1</td>\n",
              "      <td>46</td>\n",
              "      <td>f</td>\n",
              "      <td>33.0</td>\n",
              "      <td>NaN</td>\n",
              "      <td>39.0</td>\n",
              "      <td>62.0</td>\n",
              "      <td>20.0</td>\n",
              "      <td>3.56</td>\n",
              "      <td>4.20</td>\n",
              "      <td>52.0</td>\n",
              "      <td>50.0</td>\n",
              "      <td>71.0</td>\n",
              "    </tr>\n",
              "    <tr>\n",
              "      <th>614</th>\n",
              "      <td>0</td>\n",
              "      <td>0</td>\n",
              "      <td>0</td>\n",
              "      <td>0</td>\n",
              "      <td>1</td>\n",
              "      <td>59</td>\n",
              "      <td>f</td>\n",
              "      <td>36.0</td>\n",
              "      <td>NaN</td>\n",
              "      <td>100.0</td>\n",
              "      <td>80.0</td>\n",
              "      <td>12.0</td>\n",
              "      <td>9.07</td>\n",
              "      <td>5.30</td>\n",
              "      <td>67.0</td>\n",
              "      <td>34.0</td>\n",
              "      <td>68.0</td>\n",
              "    </tr>\n",
              "  </tbody>\n",
              "</table>\n",
              "<p>553 rows × 17 columns</p>\n",
              "</div>"
            ],
            "text/plain": [
              "     0=Blood Donor  0s=suspect Blood Donor  1=Hepatitis  ...   CREA    GGT  PROT\n",
              "0                1                       0            0  ...  106.0   12.1  69.0\n",
              "1                1                       0            0  ...   74.0   15.6  76.5\n",
              "2                1                       0            0  ...   86.0   33.2  79.3\n",
              "4                1                       0            0  ...   76.0   29.9  68.7\n",
              "5                1                       0            0  ...  111.0   91.0  74.0\n",
              "..             ...                     ...          ...  ...    ...    ...   ...\n",
              "610              0                       0            0  ...   55.7  650.9  68.5\n",
              "611              0                       0            0  ...   63.0   35.9  71.3\n",
              "612              0                       0            0  ...   66.7   64.2  82.0\n",
              "613              0                       0            0  ...   52.0   50.0  71.0\n",
              "614              0                       0            0  ...   67.0   34.0  68.0\n",
              "\n",
              "[553 rows x 17 columns]"
            ]
          },
          "metadata": {
            "tags": []
          },
          "execution_count": 162
        }
      ]
    },
    {
      "cell_type": "code",
      "metadata": {
        "colab": {
          "base_uri": "https://localhost:8080/",
          "height": 883
        },
        "id": "ssAg76HlwQvZ",
        "outputId": "a0c64b7e-277f-43b4-9de9-a9865d770e7e"
      },
      "source": [
        "train_df=train_df.fillna(0)\n",
        "train_df\n",
        "val_df=val_df.fillna(0)\n",
        "val_df"
      ],
      "execution_count": 175,
      "outputs": [
        {
          "output_type": "execute_result",
          "data": {
            "text/html": [
              "<div>\n",
              "<style scoped>\n",
              "    .dataframe tbody tr th:only-of-type {\n",
              "        vertical-align: middle;\n",
              "    }\n",
              "\n",
              "    .dataframe tbody tr th {\n",
              "        vertical-align: top;\n",
              "    }\n",
              "\n",
              "    .dataframe thead th {\n",
              "        text-align: right;\n",
              "    }\n",
              "</style>\n",
              "<table border=\"1\" class=\"dataframe\">\n",
              "  <thead>\n",
              "    <tr style=\"text-align: right;\">\n",
              "      <th></th>\n",
              "      <th>0=Blood Donor</th>\n",
              "      <th>0s=suspect Blood Donor</th>\n",
              "      <th>1=Hepatitis</th>\n",
              "      <th>2=Fibrosis</th>\n",
              "      <th>3=Cirrhosis</th>\n",
              "      <th>Age</th>\n",
              "      <th>Sex</th>\n",
              "      <th>ALB</th>\n",
              "      <th>ALP</th>\n",
              "      <th>ALT</th>\n",
              "      <th>AST</th>\n",
              "      <th>BIL</th>\n",
              "      <th>CHE</th>\n",
              "      <th>CHOL</th>\n",
              "      <th>CREA</th>\n",
              "      <th>GGT</th>\n",
              "      <th>PROT</th>\n",
              "    </tr>\n",
              "  </thead>\n",
              "  <tbody>\n",
              "    <tr>\n",
              "      <th>0</th>\n",
              "      <td>1</td>\n",
              "      <td>0</td>\n",
              "      <td>0</td>\n",
              "      <td>0</td>\n",
              "      <td>0</td>\n",
              "      <td>32</td>\n",
              "      <td>m</td>\n",
              "      <td>38.5</td>\n",
              "      <td>52.5</td>\n",
              "      <td>7.7</td>\n",
              "      <td>22.1</td>\n",
              "      <td>7.5</td>\n",
              "      <td>6.93</td>\n",
              "      <td>3.23</td>\n",
              "      <td>106.0</td>\n",
              "      <td>12.1</td>\n",
              "      <td>69.0</td>\n",
              "    </tr>\n",
              "    <tr>\n",
              "      <th>1</th>\n",
              "      <td>1</td>\n",
              "      <td>0</td>\n",
              "      <td>0</td>\n",
              "      <td>0</td>\n",
              "      <td>0</td>\n",
              "      <td>32</td>\n",
              "      <td>m</td>\n",
              "      <td>38.5</td>\n",
              "      <td>70.3</td>\n",
              "      <td>18.0</td>\n",
              "      <td>24.7</td>\n",
              "      <td>3.9</td>\n",
              "      <td>11.17</td>\n",
              "      <td>4.80</td>\n",
              "      <td>74.0</td>\n",
              "      <td>15.6</td>\n",
              "      <td>76.5</td>\n",
              "    </tr>\n",
              "    <tr>\n",
              "      <th>2</th>\n",
              "      <td>1</td>\n",
              "      <td>0</td>\n",
              "      <td>0</td>\n",
              "      <td>0</td>\n",
              "      <td>0</td>\n",
              "      <td>32</td>\n",
              "      <td>m</td>\n",
              "      <td>46.9</td>\n",
              "      <td>74.7</td>\n",
              "      <td>36.2</td>\n",
              "      <td>52.6</td>\n",
              "      <td>6.1</td>\n",
              "      <td>8.84</td>\n",
              "      <td>5.20</td>\n",
              "      <td>86.0</td>\n",
              "      <td>33.2</td>\n",
              "      <td>79.3</td>\n",
              "    </tr>\n",
              "    <tr>\n",
              "      <th>4</th>\n",
              "      <td>1</td>\n",
              "      <td>0</td>\n",
              "      <td>0</td>\n",
              "      <td>0</td>\n",
              "      <td>0</td>\n",
              "      <td>32</td>\n",
              "      <td>m</td>\n",
              "      <td>39.2</td>\n",
              "      <td>74.1</td>\n",
              "      <td>32.6</td>\n",
              "      <td>24.8</td>\n",
              "      <td>9.6</td>\n",
              "      <td>9.15</td>\n",
              "      <td>4.32</td>\n",
              "      <td>76.0</td>\n",
              "      <td>29.9</td>\n",
              "      <td>68.7</td>\n",
              "    </tr>\n",
              "    <tr>\n",
              "      <th>5</th>\n",
              "      <td>1</td>\n",
              "      <td>0</td>\n",
              "      <td>0</td>\n",
              "      <td>0</td>\n",
              "      <td>0</td>\n",
              "      <td>32</td>\n",
              "      <td>m</td>\n",
              "      <td>41.6</td>\n",
              "      <td>43.3</td>\n",
              "      <td>18.5</td>\n",
              "      <td>19.7</td>\n",
              "      <td>12.3</td>\n",
              "      <td>9.92</td>\n",
              "      <td>6.05</td>\n",
              "      <td>111.0</td>\n",
              "      <td>91.0</td>\n",
              "      <td>74.0</td>\n",
              "    </tr>\n",
              "    <tr>\n",
              "      <th>...</th>\n",
              "      <td>...</td>\n",
              "      <td>...</td>\n",
              "      <td>...</td>\n",
              "      <td>...</td>\n",
              "      <td>...</td>\n",
              "      <td>...</td>\n",
              "      <td>...</td>\n",
              "      <td>...</td>\n",
              "      <td>...</td>\n",
              "      <td>...</td>\n",
              "      <td>...</td>\n",
              "      <td>...</td>\n",
              "      <td>...</td>\n",
              "      <td>...</td>\n",
              "      <td>...</td>\n",
              "      <td>...</td>\n",
              "      <td>...</td>\n",
              "    </tr>\n",
              "    <tr>\n",
              "      <th>610</th>\n",
              "      <td>0</td>\n",
              "      <td>0</td>\n",
              "      <td>0</td>\n",
              "      <td>0</td>\n",
              "      <td>1</td>\n",
              "      <td>62</td>\n",
              "      <td>f</td>\n",
              "      <td>32.0</td>\n",
              "      <td>416.6</td>\n",
              "      <td>5.9</td>\n",
              "      <td>110.3</td>\n",
              "      <td>50.0</td>\n",
              "      <td>5.57</td>\n",
              "      <td>6.30</td>\n",
              "      <td>55.7</td>\n",
              "      <td>650.9</td>\n",
              "      <td>68.5</td>\n",
              "    </tr>\n",
              "    <tr>\n",
              "      <th>611</th>\n",
              "      <td>0</td>\n",
              "      <td>0</td>\n",
              "      <td>0</td>\n",
              "      <td>0</td>\n",
              "      <td>1</td>\n",
              "      <td>64</td>\n",
              "      <td>f</td>\n",
              "      <td>24.0</td>\n",
              "      <td>102.8</td>\n",
              "      <td>2.9</td>\n",
              "      <td>44.4</td>\n",
              "      <td>20.0</td>\n",
              "      <td>1.54</td>\n",
              "      <td>3.02</td>\n",
              "      <td>63.0</td>\n",
              "      <td>35.9</td>\n",
              "      <td>71.3</td>\n",
              "    </tr>\n",
              "    <tr>\n",
              "      <th>612</th>\n",
              "      <td>0</td>\n",
              "      <td>0</td>\n",
              "      <td>0</td>\n",
              "      <td>0</td>\n",
              "      <td>1</td>\n",
              "      <td>64</td>\n",
              "      <td>f</td>\n",
              "      <td>29.0</td>\n",
              "      <td>87.3</td>\n",
              "      <td>3.5</td>\n",
              "      <td>99.0</td>\n",
              "      <td>48.0</td>\n",
              "      <td>1.66</td>\n",
              "      <td>3.63</td>\n",
              "      <td>66.7</td>\n",
              "      <td>64.2</td>\n",
              "      <td>82.0</td>\n",
              "    </tr>\n",
              "    <tr>\n",
              "      <th>613</th>\n",
              "      <td>0</td>\n",
              "      <td>0</td>\n",
              "      <td>0</td>\n",
              "      <td>0</td>\n",
              "      <td>1</td>\n",
              "      <td>46</td>\n",
              "      <td>f</td>\n",
              "      <td>33.0</td>\n",
              "      <td>0.0</td>\n",
              "      <td>39.0</td>\n",
              "      <td>62.0</td>\n",
              "      <td>20.0</td>\n",
              "      <td>3.56</td>\n",
              "      <td>4.20</td>\n",
              "      <td>52.0</td>\n",
              "      <td>50.0</td>\n",
              "      <td>71.0</td>\n",
              "    </tr>\n",
              "    <tr>\n",
              "      <th>614</th>\n",
              "      <td>0</td>\n",
              "      <td>0</td>\n",
              "      <td>0</td>\n",
              "      <td>0</td>\n",
              "      <td>1</td>\n",
              "      <td>59</td>\n",
              "      <td>f</td>\n",
              "      <td>36.0</td>\n",
              "      <td>0.0</td>\n",
              "      <td>100.0</td>\n",
              "      <td>80.0</td>\n",
              "      <td>12.0</td>\n",
              "      <td>9.07</td>\n",
              "      <td>5.30</td>\n",
              "      <td>67.0</td>\n",
              "      <td>34.0</td>\n",
              "      <td>68.0</td>\n",
              "    </tr>\n",
              "  </tbody>\n",
              "</table>\n",
              "<p>553 rows × 17 columns</p>\n",
              "</div>"
            ],
            "text/plain": [
              "     0=Blood Donor  0s=suspect Blood Donor  1=Hepatitis  ...   CREA    GGT  PROT\n",
              "0                1                       0            0  ...  106.0   12.1  69.0\n",
              "1                1                       0            0  ...   74.0   15.6  76.5\n",
              "2                1                       0            0  ...   86.0   33.2  79.3\n",
              "4                1                       0            0  ...   76.0   29.9  68.7\n",
              "5                1                       0            0  ...  111.0   91.0  74.0\n",
              "..             ...                     ...          ...  ...    ...    ...   ...\n",
              "610              0                       0            0  ...   55.7  650.9  68.5\n",
              "611              0                       0            0  ...   63.0   35.9  71.3\n",
              "612              0                       0            0  ...   66.7   64.2  82.0\n",
              "613              0                       0            0  ...   52.0   50.0  71.0\n",
              "614              0                       0            0  ...   67.0   34.0  68.0\n",
              "\n",
              "[553 rows x 17 columns]"
            ]
          },
          "metadata": {
            "tags": []
          },
          "execution_count": 175
        },
        {
          "output_type": "execute_result",
          "data": {
            "text/html": [
              "<div>\n",
              "<style scoped>\n",
              "    .dataframe tbody tr th:only-of-type {\n",
              "        vertical-align: middle;\n",
              "    }\n",
              "\n",
              "    .dataframe tbody tr th {\n",
              "        vertical-align: top;\n",
              "    }\n",
              "\n",
              "    .dataframe thead th {\n",
              "        text-align: right;\n",
              "    }\n",
              "</style>\n",
              "<table border=\"1\" class=\"dataframe\">\n",
              "  <thead>\n",
              "    <tr style=\"text-align: right;\">\n",
              "      <th></th>\n",
              "      <th>0=Blood Donor</th>\n",
              "      <th>0s=suspect Blood Donor</th>\n",
              "      <th>1=Hepatitis</th>\n",
              "      <th>2=Fibrosis</th>\n",
              "      <th>3=Cirrhosis</th>\n",
              "      <th>Age</th>\n",
              "      <th>Sex</th>\n",
              "      <th>ALB</th>\n",
              "      <th>ALP</th>\n",
              "      <th>ALT</th>\n",
              "      <th>AST</th>\n",
              "      <th>BIL</th>\n",
              "      <th>CHE</th>\n",
              "      <th>CHOL</th>\n",
              "      <th>CREA</th>\n",
              "      <th>GGT</th>\n",
              "      <th>PROT</th>\n",
              "    </tr>\n",
              "  </thead>\n",
              "  <tbody>\n",
              "    <tr>\n",
              "      <th>357</th>\n",
              "      <td>1</td>\n",
              "      <td>0</td>\n",
              "      <td>0</td>\n",
              "      <td>0</td>\n",
              "      <td>0</td>\n",
              "      <td>37</td>\n",
              "      <td>f</td>\n",
              "      <td>42.1</td>\n",
              "      <td>47.5</td>\n",
              "      <td>18.3</td>\n",
              "      <td>21.7</td>\n",
              "      <td>2.8</td>\n",
              "      <td>8.29</td>\n",
              "      <td>4.36</td>\n",
              "      <td>83.0</td>\n",
              "      <td>28.9</td>\n",
              "      <td>73.4</td>\n",
              "    </tr>\n",
              "    <tr>\n",
              "      <th>546</th>\n",
              "      <td>0</td>\n",
              "      <td>0</td>\n",
              "      <td>1</td>\n",
              "      <td>0</td>\n",
              "      <td>0</td>\n",
              "      <td>30</td>\n",
              "      <td>m</td>\n",
              "      <td>45.0</td>\n",
              "      <td>0.0</td>\n",
              "      <td>66.0</td>\n",
              "      <td>45.0</td>\n",
              "      <td>14.0</td>\n",
              "      <td>12.16</td>\n",
              "      <td>6.10</td>\n",
              "      <td>86.0</td>\n",
              "      <td>43.0</td>\n",
              "      <td>77.0</td>\n",
              "    </tr>\n",
              "    <tr>\n",
              "      <th>187</th>\n",
              "      <td>1</td>\n",
              "      <td>0</td>\n",
              "      <td>0</td>\n",
              "      <td>0</td>\n",
              "      <td>0</td>\n",
              "      <td>49</td>\n",
              "      <td>m</td>\n",
              "      <td>39.7</td>\n",
              "      <td>77.3</td>\n",
              "      <td>20.2</td>\n",
              "      <td>19.0</td>\n",
              "      <td>8.8</td>\n",
              "      <td>7.26</td>\n",
              "      <td>4.98</td>\n",
              "      <td>84.0</td>\n",
              "      <td>74.5</td>\n",
              "      <td>65.4</td>\n",
              "    </tr>\n",
              "    <tr>\n",
              "      <th>32</th>\n",
              "      <td>1</td>\n",
              "      <td>0</td>\n",
              "      <td>0</td>\n",
              "      <td>0</td>\n",
              "      <td>0</td>\n",
              "      <td>34</td>\n",
              "      <td>m</td>\n",
              "      <td>43.6</td>\n",
              "      <td>58.9</td>\n",
              "      <td>47.1</td>\n",
              "      <td>31.1</td>\n",
              "      <td>18.5</td>\n",
              "      <td>9.14</td>\n",
              "      <td>4.99</td>\n",
              "      <td>95.0</td>\n",
              "      <td>22.2</td>\n",
              "      <td>69.3</td>\n",
              "    </tr>\n",
              "    <tr>\n",
              "      <th>549</th>\n",
              "      <td>0</td>\n",
              "      <td>0</td>\n",
              "      <td>1</td>\n",
              "      <td>0</td>\n",
              "      <td>0</td>\n",
              "      <td>34</td>\n",
              "      <td>m</td>\n",
              "      <td>46.0</td>\n",
              "      <td>36.7</td>\n",
              "      <td>7.4</td>\n",
              "      <td>31.6</td>\n",
              "      <td>9.0</td>\n",
              "      <td>9.71</td>\n",
              "      <td>5.37</td>\n",
              "      <td>82.3</td>\n",
              "      <td>34.4</td>\n",
              "      <td>71.6</td>\n",
              "    </tr>\n",
              "    <tr>\n",
              "      <th>...</th>\n",
              "      <td>...</td>\n",
              "      <td>...</td>\n",
              "      <td>...</td>\n",
              "      <td>...</td>\n",
              "      <td>...</td>\n",
              "      <td>...</td>\n",
              "      <td>...</td>\n",
              "      <td>...</td>\n",
              "      <td>...</td>\n",
              "      <td>...</td>\n",
              "      <td>...</td>\n",
              "      <td>...</td>\n",
              "      <td>...</td>\n",
              "      <td>...</td>\n",
              "      <td>...</td>\n",
              "      <td>...</td>\n",
              "      <td>...</td>\n",
              "    </tr>\n",
              "    <tr>\n",
              "      <th>603</th>\n",
              "      <td>0</td>\n",
              "      <td>0</td>\n",
              "      <td>0</td>\n",
              "      <td>0</td>\n",
              "      <td>1</td>\n",
              "      <td>65</td>\n",
              "      <td>m</td>\n",
              "      <td>0.0</td>\n",
              "      <td>0.0</td>\n",
              "      <td>40.0</td>\n",
              "      <td>54.0</td>\n",
              "      <td>13.0</td>\n",
              "      <td>7.50</td>\n",
              "      <td>0.00</td>\n",
              "      <td>70.0</td>\n",
              "      <td>107.0</td>\n",
              "      <td>79.0</td>\n",
              "    </tr>\n",
              "    <tr>\n",
              "      <th>13</th>\n",
              "      <td>1</td>\n",
              "      <td>0</td>\n",
              "      <td>0</td>\n",
              "      <td>0</td>\n",
              "      <td>0</td>\n",
              "      <td>33</td>\n",
              "      <td>m</td>\n",
              "      <td>39.0</td>\n",
              "      <td>51.7</td>\n",
              "      <td>15.9</td>\n",
              "      <td>24.0</td>\n",
              "      <td>6.8</td>\n",
              "      <td>6.46</td>\n",
              "      <td>3.38</td>\n",
              "      <td>65.0</td>\n",
              "      <td>7.0</td>\n",
              "      <td>70.4</td>\n",
              "    </tr>\n",
              "    <tr>\n",
              "      <th>525</th>\n",
              "      <td>1</td>\n",
              "      <td>0</td>\n",
              "      <td>0</td>\n",
              "      <td>0</td>\n",
              "      <td>0</td>\n",
              "      <td>63</td>\n",
              "      <td>f</td>\n",
              "      <td>47.6</td>\n",
              "      <td>59.9</td>\n",
              "      <td>21.1</td>\n",
              "      <td>27.8</td>\n",
              "      <td>8.4</td>\n",
              "      <td>9.24</td>\n",
              "      <td>6.08</td>\n",
              "      <td>62.0</td>\n",
              "      <td>18.3</td>\n",
              "      <td>74.5</td>\n",
              "    </tr>\n",
              "    <tr>\n",
              "      <th>213</th>\n",
              "      <td>1</td>\n",
              "      <td>0</td>\n",
              "      <td>0</td>\n",
              "      <td>0</td>\n",
              "      <td>0</td>\n",
              "      <td>51</td>\n",
              "      <td>m</td>\n",
              "      <td>46.3</td>\n",
              "      <td>69.4</td>\n",
              "      <td>20.1</td>\n",
              "      <td>26.8</td>\n",
              "      <td>4.5</td>\n",
              "      <td>9.99</td>\n",
              "      <td>4.14</td>\n",
              "      <td>81.0</td>\n",
              "      <td>12.3</td>\n",
              "      <td>73.9</td>\n",
              "    </tr>\n",
              "    <tr>\n",
              "      <th>377</th>\n",
              "      <td>1</td>\n",
              "      <td>0</td>\n",
              "      <td>0</td>\n",
              "      <td>0</td>\n",
              "      <td>0</td>\n",
              "      <td>42</td>\n",
              "      <td>f</td>\n",
              "      <td>43.4</td>\n",
              "      <td>54.0</td>\n",
              "      <td>11.3</td>\n",
              "      <td>21.3</td>\n",
              "      <td>1.8</td>\n",
              "      <td>6.43</td>\n",
              "      <td>4.43</td>\n",
              "      <td>54.0</td>\n",
              "      <td>18.6</td>\n",
              "      <td>82.3</td>\n",
              "    </tr>\n",
              "  </tbody>\n",
              "</table>\n",
              "<p>62 rows × 17 columns</p>\n",
              "</div>"
            ],
            "text/plain": [
              "     0=Blood Donor  0s=suspect Blood Donor  1=Hepatitis  ...  CREA    GGT  PROT\n",
              "357              1                       0            0  ...  83.0   28.9  73.4\n",
              "546              0                       0            1  ...  86.0   43.0  77.0\n",
              "187              1                       0            0  ...  84.0   74.5  65.4\n",
              "32               1                       0            0  ...  95.0   22.2  69.3\n",
              "549              0                       0            1  ...  82.3   34.4  71.6\n",
              "..             ...                     ...          ...  ...   ...    ...   ...\n",
              "603              0                       0            0  ...  70.0  107.0  79.0\n",
              "13               1                       0            0  ...  65.0    7.0  70.4\n",
              "525              1                       0            0  ...  62.0   18.3  74.5\n",
              "213              1                       0            0  ...  81.0   12.3  73.9\n",
              "377              1                       0            0  ...  54.0   18.6  82.3\n",
              "\n",
              "[62 rows x 17 columns]"
            ]
          },
          "metadata": {
            "tags": []
          },
          "execution_count": 175
        }
      ]
    },
    {
      "cell_type": "code",
      "metadata": {
        "id": "a9PHLbO1gePl"
      },
      "source": [
        "def dataframe_to_dataset(dataframe):\n",
        "    dataframe = dataframe.copy()\n",
        "    col= ['0=Blood Donor','0s=suspect Blood Donor', '1=Hepatitis', '2=Fibrosis', '3=Cirrhosis' ]\n",
        "    labels= dataframe[col]\n",
        "    #labels = dataframe.pop(\"Category\")\n",
        "    #labels= pd.get_dummies(labels)\n",
        "    ds = tf.data.Dataset.from_tensor_slices((dict(dataframe), labels))\n",
        "    ds = ds.shuffle(buffer_size=len(dataframe))\n",
        "    return ds\n",
        "\n",
        "\n",
        "train_ds = dataframe_to_dataset(train_df)\n",
        "val_ds = dataframe_to_dataset(val_df)"
      ],
      "execution_count": 197,
      "outputs": []
    },
    {
      "cell_type": "code",
      "metadata": {
        "colab": {
          "base_uri": "https://localhost:8080/"
        },
        "id": "jEn8Ouf5HFox",
        "outputId": "e94fe507-d13f-4eeb-d3fe-536ef1d8dd6f"
      },
      "source": [
        "for x, y in train_ds.take(1):\n",
        "    print(\"Input:\", x)\n",
        "    print(\"Target:\", y)"
      ],
      "execution_count": 198,
      "outputs": [
        {
          "output_type": "stream",
          "text": [
            "Input: {'0=Blood Donor': <tf.Tensor: shape=(), dtype=uint8, numpy=1>, '0s=suspect Blood Donor': <tf.Tensor: shape=(), dtype=uint8, numpy=0>, '1=Hepatitis': <tf.Tensor: shape=(), dtype=uint8, numpy=0>, '2=Fibrosis': <tf.Tensor: shape=(), dtype=uint8, numpy=0>, '3=Cirrhosis': <tf.Tensor: shape=(), dtype=uint8, numpy=0>, 'Age': <tf.Tensor: shape=(), dtype=int64, numpy=46>, 'Sex': <tf.Tensor: shape=(), dtype=string, numpy=b'f'>, 'ALB': <tf.Tensor: shape=(), dtype=float64, numpy=42.3>, 'ALP': <tf.Tensor: shape=(), dtype=float64, numpy=61.9>, 'ALT': <tf.Tensor: shape=(), dtype=float64, numpy=20.0>, 'AST': <tf.Tensor: shape=(), dtype=float64, numpy=21.8>, 'BIL': <tf.Tensor: shape=(), dtype=float64, numpy=9.7>, 'CHE': <tf.Tensor: shape=(), dtype=float64, numpy=8.8>, 'CHOL': <tf.Tensor: shape=(), dtype=float64, numpy=7.09>, 'CREA': <tf.Tensor: shape=(), dtype=float64, numpy=67.0>, 'GGT': <tf.Tensor: shape=(), dtype=float64, numpy=35.0>, 'PROT': <tf.Tensor: shape=(), dtype=float64, numpy=75.2>}\n",
            "Target: tf.Tensor([1 0 0 0 0], shape=(5,), dtype=uint8)\n"
          ],
          "name": "stdout"
        }
      ]
    },
    {
      "cell_type": "code",
      "metadata": {
        "id": "WytnbGqngePl"
      },
      "source": [
        "train_ds = train_ds.batch(32)\n",
        "val_ds = val_ds.batch(32)"
      ],
      "execution_count": 199,
      "outputs": []
    },
    {
      "cell_type": "code",
      "metadata": {
        "colab": {
          "base_uri": "https://localhost:8080/"
        },
        "id": "cBiKPZ27gePl",
        "outputId": "d885c8ef-d152-45c3-c67d-bbc8e50796d3"
      },
      "source": [
        "train_ds"
      ],
      "execution_count": 196,
      "outputs": [
        {
          "output_type": "execute_result",
          "data": {
            "text/plain": [
              "<BatchDataset shapes: ({0=Blood Donor: (None, None), 0s=suspect Blood Donor: (None, None), 1=Hepatitis: (None, None), 2=Fibrosis: (None, None), 3=Cirrhosis: (None, None), Age: (None, None), Sex: (None, None), ALB: (None, None), ALP: (None, None), ALT: (None, None), AST: (None, None), BIL: (None, None), CHE: (None, None), CHOL: (None, None), CREA: (None, None), GGT: (None, None), PROT: (None, None)}, (None, None, 5)), types: ({0=Blood Donor: tf.uint8, 0s=suspect Blood Donor: tf.uint8, 1=Hepatitis: tf.uint8, 2=Fibrosis: tf.uint8, 3=Cirrhosis: tf.uint8, Age: tf.int64, Sex: tf.string, ALB: tf.float64, ALP: tf.float64, ALT: tf.float64, AST: tf.float64, BIL: tf.float64, CHE: tf.float64, CHOL: tf.float64, CREA: tf.float64, GGT: tf.float64, PROT: tf.float64}, tf.uint8)>"
            ]
          },
          "metadata": {
            "tags": []
          },
          "execution_count": 196
        }
      ]
    },
    {
      "cell_type": "markdown",
      "metadata": {
        "id": "wpRi5gu3gePl"
      },
      "source": [
        "## Feature preprocessing with Keras layers"
      ]
    },
    {
      "cell_type": "code",
      "metadata": {
        "colab": {
          "base_uri": "https://localhost:8080/"
        },
        "id": "qwz_LnuZmB-6",
        "outputId": "7f3ee01d-3a1c-4a86-dd3f-c8ffd6c8ce45"
      },
      "source": [
        "\n",
        "\n",
        "encoder = tf.keras.layers.experimental.preprocessing.CategoryEncoding(\n",
        "    max_tokens=None, output_mode=\"binary\", sparse=False\n",
        "    )\n",
        "\n",
        "encoder\n",
        "\n"
      ],
      "execution_count": 182,
      "outputs": [
        {
          "output_type": "execute_result",
          "data": {
            "text/plain": [
              "<tensorflow.python.keras.layers.preprocessing.category_encoding.CategoryEncoding at 0x7f77584e0cc0>"
            ]
          },
          "metadata": {
            "tags": []
          },
          "execution_count": 182
        }
      ]
    },
    {
      "cell_type": "code",
      "metadata": {
        "id": "FsfUGVjDgePl"
      },
      "source": [
        "\n",
        "\n",
        "def encode_numerical_feature(feature, name, dataset):\n",
        "    # Create a Normalization layer for our feature\n",
        "    normalizer = tf.keras.layers.experimental.preprocessing.Normalization(\n",
        "    axis=-1, dtype=None\n",
        ")\n",
        "\n",
        "    # Prepare a Dataset that only yields our feature\n",
        "    feature_ds = dataset.map(lambda x, y: x[name])\n",
        "    feature_ds = feature_ds.map(lambda x: tf.expand_dims(x, -1))\n",
        "\n",
        "    # Learn the statistics of the data\n",
        "    normalizer.adapt(feature_ds)\n",
        "\n",
        "    # Normalize the input feature\n",
        "    encoded_feature = normalizer(feature)\n",
        "    return encoded_feature\n",
        "\n",
        "\n",
        "def encode_string_categorical_feature(feature, name, dataset):\n",
        "    # Create a StringLookup layer which will turn strings into integer indices\n",
        "    index = tf.keras.layers.experimental.preprocessing.StringLookup(\n",
        "   \n",
        "              )\n",
        "\n",
        "    # Prepare a Dataset that only yields our feature\n",
        "    feature_ds = dataset.map(lambda x, y: x[name])\n",
        "    feature_ds = feature_ds.map(lambda x: tf.expand_dims(x, -1))\n",
        "\n",
        "    # Learn the set of possible string values and assign them a fixed integer index\n",
        "    index.adapt(feature_ds)\n",
        "\n",
        "    # Turn the string input into integer indices\n",
        "    encoded_feature = index(feature)\n",
        "\n",
        "    # Create a CategoryEncoding for our integer indices\n",
        "    encoder = tf.keras.layers.experimental.preprocessing.CategoryEncoding(\n",
        "    max_tokens=None, output_mode=\"binary\", sparse=False\n",
        "    )\n",
        "\n",
        "    # Prepare a dataset of indices\n",
        "    feature_ds = feature_ds.map(index)\n",
        "\n",
        "    # Learn the space of possible indices\n",
        "    encoder.adapt(feature_ds)\n",
        "\n",
        "    # Apply one-hot encoding to our indices\n",
        "    encoded_feature = encoder(encoded_feature)\n",
        "    return encoded_feature\n",
        "\n",
        "\n",
        "def encode_integer_categorical_feature(feature, name, dataset):\n",
        "\n",
        "    \n",
        "\n",
        "    # Create a CategoryEncoding for our integer indices\n",
        "    encoder = tf.keras.layers.experimental.preprocessing.CategoryEncoding(\n",
        "    max_tokens=None, output_mode=\"binary\", sparse=False\n",
        "    )\n",
        "\n",
        "    # Prepare a Dataset that only yields our feature\n",
        "    feature_ds = dataset.map(lambda x, y: x[name])\n",
        "    feature_ds = feature_ds.map(lambda x: tf.expand_dims(x, -1))\n",
        "\n",
        "    # Learn the space of possible indices\n",
        "    encoder.adapt(feature_ds)\n",
        "\n",
        "    # Apply one-hot encoding to our indices\n",
        "    encoded_feature = encoder(feature)\n",
        "    return encoded_feature"
      ],
      "execution_count": 190,
      "outputs": []
    },
    {
      "cell_type": "code",
      "metadata": {
        "id": "RRUEXwnSgePl"
      },
      "source": [
        "# Categorical features encoded as integers\n",
        "Sex = keras.Input(shape=(1,), name=\"Sex\", dtype=\"string\")\n",
        "# Categorical feature encoded as string\n",
        "#Category = keras.Input(shape=(1,), name= \"Category\", dtype=\"string\")\n",
        "# Numerical features\n",
        "Age = keras.Input(shape=(1,), name=\"Age\")\n",
        "ALB = keras.Input(shape=(1,), name=\"ALB\")\n",
        "ALP = keras.Input(shape=(1,), name=\"ALP\")\n",
        "ALT = keras.Input(shape=(1,), name=\"ALT\")\n",
        "AST = keras.Input(shape=(1,), name=\"AST\")\n",
        "BIL = keras.Input(shape=(1,), name=\"BIL\")\n",
        "CHE = keras.Input(shape=(1,), name=\"CHE\")\n",
        "CHOL = keras.Input(shape=(1,), name=\"CHOL\")\n",
        "CREA = keras.Input(shape=(1,), name=\"CREA\")\n",
        "GGT = keras.Input(shape=(1,), name=\"GGT\")\n",
        "PROT = keras.Input(shape=(1,), name=\"PROT\")\n"
      ],
      "execution_count": 193,
      "outputs": []
    },
    {
      "cell_type": "code",
      "metadata": {
        "colab": {
          "base_uri": "https://localhost:8080/"
        },
        "id": "V88TFW1pEZ5y",
        "outputId": "522ba677-bdba-4e18-9c51-9a502194b0a7"
      },
      "source": [
        "type(Category)"
      ],
      "execution_count": 34,
      "outputs": [
        {
          "output_type": "execute_result",
          "data": {
            "text/plain": [
              "tensorflow.python.keras.engine.keras_tensor.KerasTensor"
            ]
          },
          "metadata": {
            "tags": []
          },
          "execution_count": 34
        }
      ]
    },
    {
      "cell_type": "code",
      "metadata": {
        "id": "7iSjz-WWgePl"
      },
      "source": [
        "all_inputs =[Sex, Age, ALB, ALP, ALT, AST, BIL, CHE, CHOL, CREA, GGT, PROT,]  "
      ],
      "execution_count": 194,
      "outputs": []
    },
    {
      "cell_type": "code",
      "metadata": {
        "id": "gmdD7BT7gePl"
      },
      "source": [
        "# Integer categorical features\n",
        "Sex_encoded = encode_string_categorical_feature( Sex, \"Sex\", train_ds)\n",
        "# String categorical features\n",
        "#Category_encoded = encode_string_categorical_feature( Category, \"Category\", train_ds)\n",
        "# Numerical features\n",
        "Age_encoded = encode_numerical_feature(Age, \"Age\", train_ds)\n",
        "ALB_encode = encode_numerical_feature(ALB, \"ALB\", train_ds)\n",
        "ALP_encode = encode_numerical_feature(ALP, \"ALP\", train_ds)\n",
        "ALT_encode = encode_numerical_feature(ALT, \"ALT\", train_ds)\n",
        "AST_encode = encode_numerical_feature(AST, \"AST\", train_ds)\n",
        "BIL_encode = encode_numerical_feature(BIL, \"BIL\", train_ds)\n",
        "CHE_encode = encode_numerical_feature(CHE, \"CHE\", train_ds)\n",
        "CHOL_encode = encode_numerical_feature(CHOL, \"CHOL\", train_ds)\n",
        "CREA_encode = encode_numerical_feature(CREA, \"CREA\", train_ds)\n",
        "GGT_encode = encode_numerical_feature(GGT, \"GGT\", train_ds)\n",
        "PROT_encode = encode_numerical_feature(PROT, \"PROT\", train_ds)\n",
        "\n",
        "\n"
      ],
      "execution_count": 200,
      "outputs": []
    },
    {
      "cell_type": "code",
      "metadata": {
        "colab": {
          "base_uri": "https://localhost:8080/"
        },
        "id": "rS_bxo0kYjWL",
        "outputId": "e97c2b4c-0ef3-425d-d290-d40eeb5f605d"
      },
      "source": [
        "ALB_encode"
      ],
      "execution_count": 201,
      "outputs": [
        {
          "output_type": "execute_result",
          "data": {
            "text/plain": [
              "<KerasTensor: shape=(None, 1) dtype=float32 (created by layer 'normalization_34')>"
            ]
          },
          "metadata": {
            "tags": []
          },
          "execution_count": 201
        }
      ]
    },
    {
      "cell_type": "code",
      "metadata": {
        "id": "2xtWNL7pgePl"
      },
      "source": [
        "all_features = layers.concatenate([Sex_encoded,Age_encoded,ALB_encode,ALP_encode,ALT_encode,AST_encode,BIL_encode,CHE_encode,CHOL_encode,CREA_encode,GGT_encode,PROT_encode]  )          "
      ],
      "execution_count": 202,
      "outputs": []
    },
    {
      "cell_type": "code",
      "metadata": {
        "id": "94HUkfjTu851"
      },
      "source": [
        ""
      ],
      "execution_count": null,
      "outputs": []
    },
    {
      "cell_type": "code",
      "metadata": {
        "id": "9S_dkhplgePl"
      },
      "source": [
        "x_input = layers.Dense(32, activation=\"relu\")(all_features)\n",
        "#x = layers.Dropout(0.2)(x_input)\n",
        "#hidden2 = layers.Dense(32, kernel_initializer= 'he_normal',activation='tanh')(x)\n",
        "output = layers.Dense(5, activation=\"softmax\")(x_input)\n",
        "model = keras.Model(all_inputs  , output)\n"
      ],
      "execution_count": 225,
      "outputs": []
    },
    {
      "cell_type": "code",
      "metadata": {
        "id": "hLTPL_4LvNyr"
      },
      "source": [
        "from tensorflow.keras.optimizers import Adam"
      ],
      "execution_count": 79,
      "outputs": []
    },
    {
      "cell_type": "code",
      "metadata": {
        "id": "mZWmucgnvBk2"
      },
      "source": [
        "model.compile(optimizer= Adam(lr=0.001), loss='categorical_crossentropy', metrics=['accuracy']) "
      ],
      "execution_count": 226,
      "outputs": []
    },
    {
      "cell_type": "code",
      "metadata": {
        "colab": {
          "base_uri": "https://localhost:8080/"
        },
        "id": "BDqOU0zKuFON",
        "outputId": "83e1b4c7-80b8-4b3c-af4e-809f2959dbf5"
      },
      "source": [
        "model.summary()"
      ],
      "execution_count": 63,
      "outputs": [
        {
          "output_type": "stream",
          "text": [
            "Model: \"model_4\"\n",
            "__________________________________________________________________________________________________\n",
            "Layer (type)                    Output Shape         Param #     Connected to                     \n",
            "==================================================================================================\n",
            "Sex (InputLayer)                [(None, 1)]          0                                            \n",
            "__________________________________________________________________________________________________\n",
            "string_lookup (StringLookup)    (None, 1)            0           Sex[0][0]                        \n",
            "__________________________________________________________________________________________________\n",
            "Age (InputLayer)                [(None, 1)]          0                                            \n",
            "__________________________________________________________________________________________________\n",
            "ALB (InputLayer)                [(None, 1)]          0                                            \n",
            "__________________________________________________________________________________________________\n",
            "ALP (InputLayer)                [(None, 1)]          0                                            \n",
            "__________________________________________________________________________________________________\n",
            "ALT (InputLayer)                [(None, 1)]          0                                            \n",
            "__________________________________________________________________________________________________\n",
            "AST (InputLayer)                [(None, 1)]          0                                            \n",
            "__________________________________________________________________________________________________\n",
            "BIL (InputLayer)                [(None, 1)]          0                                            \n",
            "__________________________________________________________________________________________________\n",
            "CHE (InputLayer)                [(None, 1)]          0                                            \n",
            "__________________________________________________________________________________________________\n",
            "CHOL (InputLayer)               [(None, 1)]          0                                            \n",
            "__________________________________________________________________________________________________\n",
            "CREA (InputLayer)               [(None, 1)]          0                                            \n",
            "__________________________________________________________________________________________________\n",
            "GGT (InputLayer)                [(None, 1)]          0                                            \n",
            "__________________________________________________________________________________________________\n",
            "PROT (InputLayer)               [(None, 1)]          0                                            \n",
            "__________________________________________________________________________________________________\n",
            "category_encoding_1 (CategoryEn (None, 4)            0           string_lookup[0][0]              \n",
            "__________________________________________________________________________________________________\n",
            "normalization (Normalization)   (None, 1)            3           Age[0][0]                        \n",
            "__________________________________________________________________________________________________\n",
            "normalization_1 (Normalization) (None, 1)            3           ALB[0][0]                        \n",
            "__________________________________________________________________________________________________\n",
            "normalization_2 (Normalization) (None, 1)            3           ALP[0][0]                        \n",
            "__________________________________________________________________________________________________\n",
            "normalization_3 (Normalization) (None, 1)            3           ALT[0][0]                        \n",
            "__________________________________________________________________________________________________\n",
            "normalization_4 (Normalization) (None, 1)            3           AST[0][0]                        \n",
            "__________________________________________________________________________________________________\n",
            "normalization_5 (Normalization) (None, 1)            3           BIL[0][0]                        \n",
            "__________________________________________________________________________________________________\n",
            "normalization_6 (Normalization) (None, 1)            3           CHE[0][0]                        \n",
            "__________________________________________________________________________________________________\n",
            "normalization_7 (Normalization) (None, 1)            3           CHOL[0][0]                       \n",
            "__________________________________________________________________________________________________\n",
            "normalization_8 (Normalization) (None, 1)            3           CREA[0][0]                       \n",
            "__________________________________________________________________________________________________\n",
            "normalization_9 (Normalization) (None, 1)            3           GGT[0][0]                        \n",
            "__________________________________________________________________________________________________\n",
            "normalization_10 (Normalization (None, 1)            3           PROT[0][0]                       \n",
            "__________________________________________________________________________________________________\n",
            "concatenate_1 (Concatenate)     (None, 15)           0           category_encoding_1[0][0]        \n",
            "                                                                 normalization[0][0]              \n",
            "                                                                 normalization_1[0][0]            \n",
            "                                                                 normalization_2[0][0]            \n",
            "                                                                 normalization_3[0][0]            \n",
            "                                                                 normalization_4[0][0]            \n",
            "                                                                 normalization_5[0][0]            \n",
            "                                                                 normalization_6[0][0]            \n",
            "                                                                 normalization_7[0][0]            \n",
            "                                                                 normalization_8[0][0]            \n",
            "                                                                 normalization_9[0][0]            \n",
            "                                                                 normalization_10[0][0]           \n",
            "__________________________________________________________________________________________________\n",
            "dense_8 (Dense)                 (None, 32)           512         concatenate_1[0][0]              \n",
            "__________________________________________________________________________________________________\n",
            "dense_9 (Dense)                 (None, 5)            165         dense_8[0][0]                    \n",
            "==================================================================================================\n",
            "Total params: 710\n",
            "Trainable params: 677\n",
            "Non-trainable params: 33\n",
            "__________________________________________________________________________________________________\n"
          ],
          "name": "stdout"
        }
      ]
    },
    {
      "cell_type": "code",
      "metadata": {
        "colab": {
          "base_uri": "https://localhost:8080/",
          "height": 516
        },
        "id": "RLQTCIlxgePl",
        "outputId": "8c5e64f3-3b72-40df-db09-65c0ab891348"
      },
      "source": [
        "# `rankdir='LR'` is to make the graph horizontal.\n",
        "keras.utils.plot_model(model, show_shapes=True, rankdir=\"LR\")"
      ],
      "execution_count": 227,
      "outputs": [
        {
          "output_type": "execute_result",
          "data": {
            "image/png": "[encoded data removed]",
            "text/plain": [
              "<IPython.core.display.Image object>"
            ]
          },
          "metadata": {
            "tags": []
          },
          "execution_count": 227
        }
      ]
    },
    {
      "cell_type": "code",
      "metadata": {
        "colab": {
          "base_uri": "https://localhost:8080/"
        },
        "id": "F-LwFcyb86bq",
        "outputId": "dc3be2cd-39c4-4cdb-870f-1467dc8fd68b"
      },
      "source": [
        "model.fit(train_ds, epochs=45, validation_data=val_ds)"
      ],
      "execution_count": 228,
      "outputs": [
        {
          "output_type": "stream",
          "text": [
            "Epoch 1/45\n"
          ],
          "name": "stdout"
        },
        {
          "output_type": "stream",
          "text": [
            "/usr/local/lib/python3.6/dist-packages/tensorflow/python/keras/engine/functional.py:595: UserWarning: Input dict contained keys ['0=Blood Donor', '0s=suspect Blood Donor', '1=Hepatitis', '2=Fibrosis', '3=Cirrhosis'] which did not match any model input. They will be ignored by the model.\n",
            "  [n for n in tensors.keys() if n not in ref_input_names])\n"
          ],
          "name": "stderr"
        },
        {
          "output_type": "stream",
          "text": [
            "18/18 [==============================] - 1s 22ms/step - loss: 1.5969 - accuracy: 0.2578 - val_loss: 1.4014 - val_accuracy: 0.5484\n",
            "Epoch 2/45\n",
            "18/18 [==============================] - 0s 5ms/step - loss: 1.3355 - accuracy: 0.6285 - val_loss: 1.1547 - val_accuracy: 0.7742\n",
            "Epoch 3/45\n",
            "18/18 [==============================] - 0s 4ms/step - loss: 1.1076 - accuracy: 0.8323 - val_loss: 0.9498 - val_accuracy: 0.9194\n",
            "Epoch 4/45\n",
            "18/18 [==============================] - 0s 4ms/step - loss: 0.9320 - accuracy: 0.8772 - val_loss: 0.7834 - val_accuracy: 0.9516\n",
            "Epoch 5/45\n",
            "18/18 [==============================] - 0s 4ms/step - loss: 0.7668 - accuracy: 0.8856 - val_loss: 0.6438 - val_accuracy: 0.9516\n",
            "Epoch 6/45\n",
            "18/18 [==============================] - 0s 4ms/step - loss: 0.6696 - accuracy: 0.8846 - val_loss: 0.5374 - val_accuracy: 0.9516\n",
            "Epoch 7/45\n",
            "18/18 [==============================] - 0s 4ms/step - loss: 0.5517 - accuracy: 0.9160 - val_loss: 0.4532 - val_accuracy: 0.9516\n",
            "Epoch 8/45\n",
            "18/18 [==============================] - 0s 4ms/step - loss: 0.5118 - accuracy: 0.8913 - val_loss: 0.3933 - val_accuracy: 0.9516\n",
            "Epoch 9/45\n",
            "18/18 [==============================] - 0s 4ms/step - loss: 0.4037 - accuracy: 0.9144 - val_loss: 0.3448 - val_accuracy: 0.9516\n",
            "Epoch 10/45\n",
            "18/18 [==============================] - 0s 4ms/step - loss: 0.3955 - accuracy: 0.9230 - val_loss: 0.3089 - val_accuracy: 0.9516\n",
            "Epoch 11/45\n",
            "18/18 [==============================] - 0s 4ms/step - loss: 0.3510 - accuracy: 0.9281 - val_loss: 0.2796 - val_accuracy: 0.9516\n",
            "Epoch 12/45\n",
            "18/18 [==============================] - 0s 15ms/step - loss: 0.3013 - accuracy: 0.9374 - val_loss: 0.2582 - val_accuracy: 0.9516\n",
            "Epoch 13/45\n",
            "18/18 [==============================] - 0s 4ms/step - loss: 0.3102 - accuracy: 0.9249 - val_loss: 0.2375 - val_accuracy: 0.9516\n",
            "Epoch 14/45\n",
            "18/18 [==============================] - 0s 4ms/step - loss: 0.3079 - accuracy: 0.9219 - val_loss: 0.2202 - val_accuracy: 0.9516\n",
            "Epoch 15/45\n",
            "18/18 [==============================] - 0s 4ms/step - loss: 0.2563 - accuracy: 0.9408 - val_loss: 0.2072 - val_accuracy: 0.9516\n",
            "Epoch 16/45\n",
            "18/18 [==============================] - 0s 4ms/step - loss: 0.2458 - accuracy: 0.9369 - val_loss: 0.1929 - val_accuracy: 0.9516\n",
            "Epoch 17/45\n",
            "18/18 [==============================] - 0s 4ms/step - loss: 0.2527 - accuracy: 0.9351 - val_loss: 0.1816 - val_accuracy: 0.9516\n",
            "Epoch 18/45\n",
            "18/18 [==============================] - 0s 4ms/step - loss: 0.2243 - accuracy: 0.9334 - val_loss: 0.1724 - val_accuracy: 0.9516\n",
            "Epoch 19/45\n",
            "18/18 [==============================] - 0s 4ms/step - loss: 0.2236 - accuracy: 0.9338 - val_loss: 0.1646 - val_accuracy: 0.9516\n",
            "Epoch 20/45\n",
            "18/18 [==============================] - 0s 4ms/step - loss: 0.2169 - accuracy: 0.9396 - val_loss: 0.1559 - val_accuracy: 0.9516\n",
            "Epoch 21/45\n",
            "18/18 [==============================] - 0s 4ms/step - loss: 0.1844 - accuracy: 0.9493 - val_loss: 0.1475 - val_accuracy: 0.9516\n",
            "Epoch 22/45\n",
            "18/18 [==============================] - 0s 4ms/step - loss: 0.1696 - accuracy: 0.9487 - val_loss: 0.1393 - val_accuracy: 0.9516\n",
            "Epoch 23/45\n",
            "18/18 [==============================] - 0s 4ms/step - loss: 0.1977 - accuracy: 0.9448 - val_loss: 0.1339 - val_accuracy: 0.9516\n",
            "Epoch 24/45\n",
            "18/18 [==============================] - 0s 4ms/step - loss: 0.2040 - accuracy: 0.9334 - val_loss: 0.1282 - val_accuracy: 0.9516\n",
            "Epoch 25/45\n",
            "18/18 [==============================] - 0s 5ms/step - loss: 0.1930 - accuracy: 0.9384 - val_loss: 0.1215 - val_accuracy: 0.9516\n",
            "Epoch 26/45\n",
            "18/18 [==============================] - 0s 5ms/step - loss: 0.1753 - accuracy: 0.9425 - val_loss: 0.1182 - val_accuracy: 0.9516\n",
            "Epoch 27/45\n",
            "18/18 [==============================] - 0s 4ms/step - loss: 0.1645 - accuracy: 0.9483 - val_loss: 0.1124 - val_accuracy: 0.9516\n",
            "Epoch 28/45\n",
            "18/18 [==============================] - 0s 5ms/step - loss: 0.1317 - accuracy: 0.9619 - val_loss: 0.1083 - val_accuracy: 0.9516\n",
            "Epoch 29/45\n",
            "18/18 [==============================] - 0s 4ms/step - loss: 0.1546 - accuracy: 0.9446 - val_loss: 0.1050 - val_accuracy: 0.9516\n",
            "Epoch 30/45\n",
            "18/18 [==============================] - 0s 4ms/step - loss: 0.1435 - accuracy: 0.9569 - val_loss: 0.1007 - val_accuracy: 0.9516\n",
            "Epoch 31/45\n",
            "18/18 [==============================] - 0s 5ms/step - loss: 0.1682 - accuracy: 0.9397 - val_loss: 0.0978 - val_accuracy: 0.9677\n",
            "Epoch 32/45\n",
            "18/18 [==============================] - 0s 4ms/step - loss: 0.1601 - accuracy: 0.9450 - val_loss: 0.0933 - val_accuracy: 0.9677\n",
            "Epoch 33/45\n",
            "18/18 [==============================] - 0s 4ms/step - loss: 0.1478 - accuracy: 0.9486 - val_loss: 0.0922 - val_accuracy: 0.9677\n",
            "Epoch 34/45\n",
            "18/18 [==============================] - 0s 5ms/step - loss: 0.1430 - accuracy: 0.9547 - val_loss: 0.0894 - val_accuracy: 0.9677\n",
            "Epoch 35/45\n",
            "18/18 [==============================] - 0s 4ms/step - loss: 0.1204 - accuracy: 0.9575 - val_loss: 0.0865 - val_accuracy: 0.9677\n",
            "Epoch 36/45\n",
            "18/18 [==============================] - 0s 4ms/step - loss: 0.1360 - accuracy: 0.9540 - val_loss: 0.0829 - val_accuracy: 0.9677\n",
            "Epoch 37/45\n",
            "18/18 [==============================] - 0s 4ms/step - loss: 0.1392 - accuracy: 0.9542 - val_loss: 0.0810 - val_accuracy: 0.9677\n",
            "Epoch 38/45\n",
            "18/18 [==============================] - 0s 5ms/step - loss: 0.1345 - accuracy: 0.9545 - val_loss: 0.0796 - val_accuracy: 0.9677\n",
            "Epoch 39/45\n",
            "18/18 [==============================] - 0s 5ms/step - loss: 0.1330 - accuracy: 0.9576 - val_loss: 0.0788 - val_accuracy: 0.9677\n",
            "Epoch 40/45\n",
            "18/18 [==============================] - 0s 5ms/step - loss: 0.1388 - accuracy: 0.9498 - val_loss: 0.0757 - val_accuracy: 0.9677\n",
            "Epoch 41/45\n",
            "18/18 [==============================] - 0s 5ms/step - loss: 0.1226 - accuracy: 0.9657 - val_loss: 0.0732 - val_accuracy: 0.9677\n",
            "Epoch 42/45\n",
            "18/18 [==============================] - 0s 4ms/step - loss: 0.1007 - accuracy: 0.9691 - val_loss: 0.0719 - val_accuracy: 0.9677\n",
            "Epoch 43/45\n",
            "18/18 [==============================] - 0s 5ms/step - loss: 0.1465 - accuracy: 0.9400 - val_loss: 0.0705 - val_accuracy: 0.9677\n",
            "Epoch 44/45\n",
            "18/18 [==============================] - 0s 4ms/step - loss: 0.1110 - accuracy: 0.9626 - val_loss: 0.0678 - val_accuracy: 0.9677\n",
            "Epoch 45/45\n",
            "18/18 [==============================] - 0s 4ms/step - loss: 0.1145 - accuracy: 0.9562 - val_loss: 0.0666 - val_accuracy: 0.9677\n"
          ],
          "name": "stdout"
        },
        {
          "output_type": "execute_result",
          "data": {
            "text/plain": [
              "<tensorflow.python.keras.callbacks.History at 0x7f77599f15c0>"
            ]
          },
          "metadata": {
            "tags": []
          },
          "execution_count": 228
        }
      ]
    },
    {
      "cell_type": "code",
      "metadata": {
        "colab": {
          "base_uri": "https://localhost:8080/"
        },
        "id": "pBTFZqRGyk7B",
        "outputId": "5af58e31-63a9-401b-d6f4-9e3158dd27e8"
      },
      "source": [
        "score = model.evaluate(val_ds, verbose=0)\n",
        "print('Test score:', score[0])"
      ],
      "execution_count": 229,
      "outputs": [
        {
          "output_type": "stream",
          "text": [
            "Test score: 0.06663088500499725\n"
          ],
          "name": "stdout"
        }
      ]
    },
    {
      "cell_type": "code",
      "metadata": {
        "id": "ZvWg2t1Jwa3V"
      },
      "source": [
        "### PREDICTION"
      ],
      "execution_count": 237,
      "outputs": []
    },
    {
      "cell_type": "code",
      "metadata": {
        "colab": {
          "base_uri": "https://localhost:8080/"
        },
        "id": "NRcIJlzWuLRE",
        "outputId": "0b5e98d2-e6bf-43e2-d79b-cdb64c5f76a0"
      },
      "source": [
        "predictions = model.predict(x=val_ds, verbose=0)"
      ],
      "execution_count": 230,
      "outputs": [
        {
          "output_type": "stream",
          "text": [
            "/usr/local/lib/python3.6/dist-packages/tensorflow/python/keras/engine/functional.py:595: UserWarning: Input dict contained keys ['0=Blood Donor', '0s=suspect Blood Donor', '1=Hepatitis', '2=Fibrosis', '3=Cirrhosis'] which did not match any model input. They will be ignored by the model.\n",
            "  [n for n in tensors.keys() if n not in ref_input_names])\n"
          ],
          "name": "stderr"
        }
      ]
    },
    {
      "cell_type": "code",
      "metadata": {
        "colab": {
          "base_uri": "https://localhost:8080/"
        },
        "id": "Fi1RN2TXucBF",
        "outputId": "13339509-5353-4000-ce0f-25d2d4c6645c"
      },
      "source": [
        "predictions[60]"
      ],
      "execution_count": 236,
      "outputs": [
        {
          "output_type": "execute_result",
          "data": {
            "text/plain": [
              "array([9.9091899e-01, 6.3914564e-03, 1.1068704e-03, 6.7191635e-04,\n",
              "       9.1069948e-04], dtype=float32)"
            ]
          },
          "metadata": {
            "tags": []
          },
          "execution_count": 236
        }
      ]
    }
  ]
}